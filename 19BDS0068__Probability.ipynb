{
  "nbformat": 4,
  "nbformat_minor": 0,
  "metadata": {
    "colab": {
      "name": "19BDS0068_ Probability.ipynb",
      "provenance": [],
      "collapsed_sections": [],
      "authorship_tag": "ABX9TyO8pr7skAODnBCqQAa3WaHE",
      "include_colab_link": true
    },
    "kernelspec": {
      "name": "python3",
      "display_name": "Python 3"
    },
    "language_info": {
      "name": "python"
    }
  },
  "cells": [
    {
      "cell_type": "markdown",
      "metadata": {
        "id": "view-in-github",
        "colab_type": "text"
      },
      "source": [
        "<a href=\"https://colab.research.google.com/github/Anukriti2001/Anukriti/blob/master/19BDS0068__Probability.ipynb\" target=\"_parent\"><img src=\"https://colab.research.google.com/assets/colab-badge.svg\" alt=\"Open In Colab\"/></a>"
      ]
    },
    {
      "cell_type": "code",
      "metadata": {
        "id": "unzUOY-v8nEL"
      },
      "source": [
        "import numpy as np\n",
        "import numpy.linalg as npl\n",
        "import matplotlib.pyplot as plt\n",
        "from matplotlib.pyplot import figure\n",
        "import sympy\n",
        "from sympy import *\n",
        "from IPython.core.interactiveshell import InteractiveShell\n",
        "from mpl_toolkits.mplot3d import Axes3D\n",
        "from sklearn.datasets import make_blobs\n",
        "from sklearn.neighbors import KernelDensity\n",
        "import itertools as it\n",
        "import seaborn as sns\n",
        "import scipy\n",
        "from scipy import stats\n",
        "from scipy.stats import gaussian_kde\n",
        "from scipy.stats import multivariate_normal\n",
        "from matplotlib.gridspec import GridSpec\n",
        "from matplotlib import cm\n",
        "import math\n",
        "from scipy.integrate import trapz"
      ],
      "execution_count": 1,
      "outputs": []
    },
    {
      "cell_type": "code",
      "metadata": {
        "id": "5qudaq8X8uG2"
      },
      "source": [
        "InteractiveShell.ast_node_interactivity = \"all\"\n",
        "plt.rcParams[ \"figure.figsize\" ] = (10,10)\n",
        "origin2D = np.vstack([0,0])\n",
        "origin3D = np.vstack([0,0,0])\n",
        "scale = 10"
      ],
      "execution_count": 2,
      "outputs": []
    },
    {
      "cell_type": "markdown",
      "metadata": {
        "id": "9SiNajOlAi4k"
      },
      "source": [
        "CONSTRUCTION OF PROBABILITY SPACE"
      ]
    },
    {
      "cell_type": "code",
      "metadata": {
        "colab": {
          "base_uri": "https://localhost:8080/",
          "height": 0
        },
        "id": "pYB6-zPF8xdd",
        "outputId": "dab28778-dab5-4f78-900d-d7c41b9f2232"
      },
      "source": [
        "d = Symbol('d')\n",
        "p = Symbol('p')\n",
        "options = [d,p]\n",
        "omega = list(it.product(options,repeat=2))\n",
        "omega"
      ],
      "execution_count": 3,
      "outputs": [
        {
          "output_type": "execute_result",
          "data": {
            "text/plain": [
              "[(d, d), (d, p), (p, d), (p, p)]"
            ]
          },
          "metadata": {},
          "execution_count": 3
        }
      ]
    },
    {
      "cell_type": "code",
      "metadata": {
        "colab": {
          "base_uri": "https://localhost:8080/",
          "height": 0
        },
        "id": "vGcbFD1s81WQ",
        "outputId": "18598820-43e1-4cf0-819e-7cbd2244727d"
      },
      "source": [
        "X = [(i).count(d) for i in omega]\n",
        "T = np.unique(X)\n",
        "X\n",
        "T"
      ],
      "execution_count": 4,
      "outputs": [
        {
          "output_type": "execute_result",
          "data": {
            "text/plain": [
              "[2, 1, 1, 0]"
            ]
          },
          "metadata": {},
          "execution_count": 4
        },
        {
          "output_type": "execute_result",
          "data": {
            "text/plain": [
              "array([0, 1, 2])"
            ]
          },
          "metadata": {},
          "execution_count": 4
        }
      ]
    },
    {
      "cell_type": "code",
      "metadata": {
        "colab": {
          "base_uri": "https://localhost:8080/",
          "height": 0
        },
        "id": "yIbQe3qi88_a",
        "outputId": "b3cc2734-e6a4-4027-ef5e-873f230b5ef3"
      },
      "source": [
        "pd = .3\n",
        "pnd = 1-pd\n",
        "\n",
        "omegaP = np.vstack([[pd if i == d else pnd for i in np.vstack(omega)[:,0]],[pd if i == d else pnd for i in np.vstack(omega)[:,1]]]).T\n",
        "omegaP = [i[0]*i[1] for i in omegaP]\n",
        "omegaP = np.vstack([X,omegaP]).T\n",
        "omegaP"
      ],
      "execution_count": 5,
      "outputs": [
        {
          "output_type": "execute_result",
          "data": {
            "text/plain": [
              "array([[2.  , 0.09],\n",
              "       [1.  , 0.21],\n",
              "       [1.  , 0.21],\n",
              "       [0.  , 0.49]])"
            ]
          },
          "metadata": {},
          "execution_count": 5
        }
      ]
    },
    {
      "cell_type": "code",
      "metadata": {
        "colab": {
          "base_uri": "https://localhost:8080/",
          "height": 0
        },
        "id": "bqD1BU439CBd",
        "outputId": "7b4bc90f-8657-46dd-deeb-9714808b1ff3"
      },
      "source": [
        "P = lambda x: [i for i in omegaP if x == i[0]] # PMF. For any input value, find probability in event space table.\n",
        "Ss = T[::-1]\n",
        "[sum(i)[1] for i in [P(i) for i in Ss]] # Check all values in our target space."
      ],
      "execution_count": 6,
      "outputs": [
        {
          "output_type": "execute_result",
          "data": {
            "text/plain": [
              "[0.09, 0.42, 0.48999999999999994]"
            ]
          },
          "metadata": {},
          "execution_count": 6
        }
      ]
    },
    {
      "cell_type": "markdown",
      "metadata": {
        "id": "wsKXfGG1AydD"
      },
      "source": [
        "DISCRETE AND COTINUOUS PROBABILITIES"
      ]
    },
    {
      "cell_type": "code",
      "metadata": {
        "colab": {
          "base_uri": "https://localhost:8080/",
          "height": 220
        },
        "id": "Wh3PPay49Wcc",
        "outputId": "770b8a5d-6a06-4158-cf9a-c1136e3fbdf9"
      },
      "source": [
        "ys = np.linspace(1,3,3)\n",
        "xs = np.linspace(1,5,5)\n",
        "xy = np.vstack([(x,y) for x in xs for y in ys])\n",
        "Matrix(xy[:5])\n",
        "eventCount = 100\n",
        "events = xy[np.random.choice(len(xy),100)]\n",
        "Matrix(events[:5])"
      ],
      "execution_count": 8,
      "outputs": [
        {
          "output_type": "execute_result",
          "data": {
            "text/latex": "$\\displaystyle \\left[\\begin{matrix}1.0 & 1.0\\\\1.0 & 2.0\\\\1.0 & 3.0\\\\2.0 & 1.0\\\\2.0 & 2.0\\end{matrix}\\right]$",
            "text/plain": [
              "Matrix([\n",
              "[1.0, 1.0],\n",
              "[1.0, 2.0],\n",
              "[1.0, 3.0],\n",
              "[2.0, 1.0],\n",
              "[2.0, 2.0]])"
            ]
          },
          "metadata": {},
          "execution_count": 8
        },
        {
          "output_type": "execute_result",
          "data": {
            "text/latex": "$\\displaystyle \\left[\\begin{matrix}3.0 & 3.0\\\\4.0 & 2.0\\\\5.0 & 2.0\\\\1.0 & 3.0\\\\1.0 & 2.0\\end{matrix}\\right]$",
            "text/plain": [
              "Matrix([\n",
              "[3.0, 3.0],\n",
              "[4.0, 2.0],\n",
              "[5.0, 2.0],\n",
              "[1.0, 3.0],\n",
              "[1.0, 2.0]])"
            ]
          },
          "metadata": {},
          "execution_count": 8
        }
      ]
    },
    {
      "cell_type": "code",
      "metadata": {
        "colab": {
          "base_uri": "https://localhost:8080/",
          "height": 596
        },
        "id": "0qm7Qi1r9Ysc",
        "outputId": "a8448b75-62ca-464f-c744-04e1530f0106"
      },
      "source": [
        "plt.scatter(events[:,0], events[:,1] ,s=1000, alpha = 1/eventCount, c = \"b\")\n",
        "plt.axis([0,6,0,4]);"
      ],
      "execution_count": 36,
      "outputs": [
        {
          "output_type": "display_data",
          "data": {
            "image/png": "[encoded data removed]",
            "text/plain": [
              "<Figure size 720x720 with 1 Axes>"
            ]
          },
          "metadata": {
            "needs_background": "light"
          }
        }
      ]
    },
    {
      "cell_type": "code",
      "metadata": {
        "colab": {
          "base_uri": "https://localhost:8080/",
          "height": 180
        },
        "id": "pXS3B_pa9cCa",
        "outputId": "537f97e3-8d87-43c3-d125-0edc93f05241"
      },
      "source": [
        "Xevents = np.vstack(np.unique(events[:,0],return_counts=True)).T\n",
        "Yevents = np.vstack(np.unique(events[:,1],return_counts=True)).T\n",
        "Xevents = np.hstack([Xevents,np.vstack([i/sum(Xevents[:,1]) for i in Xevents[:,1]])])\n",
        "Yevents = np.hstack([Yevents,np.vstack([i/sum(Yevents[:,1]) for i in Yevents[:,1]])])\n",
        "Matrix(Xevents)\n",
        "Matrix(Yevents)"
      ],
      "execution_count": 10,
      "outputs": [
        {
          "output_type": "execute_result",
          "data": {
            "text/latex": "$\\displaystyle \\left[\\begin{matrix}1.0 & 21.0 & 0.21\\\\2.0 & 13.0 & 0.13\\\\3.0 & 25.0 & 0.25\\\\4.0 & 25.0 & 0.25\\\\5.0 & 16.0 & 0.16\\end{matrix}\\right]$",
            "text/plain": [
              "Matrix([\n",
              "[1.0, 21.0, 0.21],\n",
              "[2.0, 13.0, 0.13],\n",
              "[3.0, 25.0, 0.25],\n",
              "[4.0, 25.0, 0.25],\n",
              "[5.0, 16.0, 0.16]])"
            ]
          },
          "metadata": {},
          "execution_count": 10
        },
        {
          "output_type": "execute_result",
          "data": {
            "text/latex": "$\\displaystyle \\left[\\begin{matrix}1.0 & 33.0 & 0.33\\\\2.0 & 37.0 & 0.37\\\\3.0 & 30.0 & 0.3\\end{matrix}\\right]$",
            "text/plain": [
              "Matrix([\n",
              "[1.0, 33.0, 0.33],\n",
              "[2.0, 37.0, 0.37],\n",
              "[3.0, 30.0,  0.3]])"
            ]
          },
          "metadata": {},
          "execution_count": 10
        }
      ]
    },
    {
      "cell_type": "code",
      "metadata": {
        "colab": {
          "base_uri": "https://localhost:8080/",
          "height": 592
        },
        "id": "M-5r1BKb9fUQ",
        "outputId": "c46eab89-6c3c-4a7e-993f-7277b740ac67"
      },
      "source": [
        "plt.bar(Xevents[:,0],Xevents[:,1],alpha=.5,label = \"X\")\n",
        "plt.barh(Yevents[:,0],Yevents[:,1],alpha=.5,label = \"Y\")\n",
        "# plt.axis([0,10,0,10])\n",
        "plt.legend(loc=2);"
      ],
      "execution_count": 11,
      "outputs": [
        {
          "output_type": "display_data",
          "data": {
            "image/png": "[encoded data removed]",
            "text/plain": [
              "<Figure size 720x720 with 1 Axes>"
            ]
          },
          "metadata": {
            "needs_background": "light"
          }
        }
      ]
    },
    {
      "cell_type": "code",
      "metadata": {
        "colab": {
          "base_uri": "https://localhost:8080/",
          "height": 0
        },
        "id": "91Quogqr9iNq",
        "outputId": "ca53b7c9-d457-4cd7-a576-53d3b63eabc8"
      },
      "source": [
        "n = np.random.choice(len(events),1)\n",
        "n"
      ],
      "execution_count": 12,
      "outputs": [
        {
          "output_type": "execute_result",
          "data": {
            "text/plain": [
              "array([39])"
            ]
          },
          "metadata": {},
          "execution_count": 12
        }
      ]
    },
    {
      "cell_type": "code",
      "metadata": {
        "colab": {
          "base_uri": "https://localhost:8080/",
          "height": 0
        },
        "id": "8ixNB4NU9lXq",
        "outputId": "fe1ff46c-45ba-451a-a1e8-9e12ee770ca4"
      },
      "source": [
        "testEvent = events[n]\n",
        "testEvent"
      ],
      "execution_count": 13,
      "outputs": [
        {
          "output_type": "execute_result",
          "data": {
            "text/plain": [
              "array([[3., 3.]])"
            ]
          },
          "metadata": {},
          "execution_count": 13
        }
      ]
    },
    {
      "cell_type": "code",
      "metadata": {
        "colab": {
          "base_uri": "https://localhost:8080/",
          "height": 607
        },
        "id": "FBb6S5Tq9n24",
        "outputId": "344257d9-769a-4f1b-c515-184db01a1e7e"
      },
      "source": [
        "eventOccurances = [i for i in events if (i == testEvent).all()]\n",
        "plt.scatter(events[:,0], events[:,1] ,s=1000, alpha = 1/eventCount, c = \"b\")\n",
        "plt.axis([0,6,0,4])\n",
        "plt.title(r\"This shows us that our testEvent happens %1.1f times.\" % len(eventOccurances));"
      ],
      "execution_count": 37,
      "outputs": [
        {
          "output_type": "display_data",
          "data": {
            "image/png": "[encoded data removed]",
            "text/plain": [
              "<Figure size 720x720 with 1 Axes>"
            ]
          },
          "metadata": {
            "needs_background": "light"
          }
        }
      ]
    },
    {
      "cell_type": "code",
      "metadata": {
        "colab": {
          "base_uri": "https://localhost:8080/",
          "height": 0
        },
        "id": "euq1aSBH9q8Y",
        "outputId": "eff6ba30-4461-41a5-8d77-9f153df1c428"
      },
      "source": [
        "# Grabs the X value from our test event and uses it as an index for our Xevents.\n",
        "columnOccurances = Xevents[int(testEvent[0][0]-1)][1]\n",
        "columnOccurances\n",
        "len(eventOccurances)/columnOccurances"
      ],
      "execution_count": 15,
      "outputs": [
        {
          "output_type": "execute_result",
          "data": {
            "text/plain": [
              "25.0"
            ]
          },
          "metadata": {},
          "execution_count": 15
        },
        {
          "output_type": "execute_result",
          "data": {
            "text/plain": [
              "0.44"
            ]
          },
          "metadata": {},
          "execution_count": 15
        }
      ]
    },
    {
      "cell_type": "code",
      "metadata": {
        "colab": {
          "base_uri": "https://localhost:8080/",
          "height": 607
        },
        "id": "UqZin3Sn9uir",
        "outputId": "9d23732f-aa9d-447d-fa86-cb4e78e42080"
      },
      "source": [
        "z = [-1.1,.3,1.5]\n",
        "X = np.linspace(.9,1.6,5)\n",
        "p = [1/len(z) for i in z]\n",
        "zp = np.vstack([z,p]).T\n",
        "plt.bar(zp[:,0],zp[:,1], alpha=.25, label=\"discrete\")\n",
        "plt.bar(X,np.linspace(1.5,1.5,5), alpha=.25, label = \"continuous\")\n",
        "plt.title(\"Examples of discrete and continuous uniform distributions.\")\n",
        "plt.legend();"
      ],
      "execution_count": 16,
      "outputs": [
        {
          "output_type": "display_data",
          "data": {
            "image/png": "[encoded data removed]",
            "text/plain": [
              "<Figure size 720x720 with 1 Axes>"
            ]
          },
          "metadata": {
            "needs_background": "light"
          }
        }
      ]
    },
    {
      "cell_type": "markdown",
      "metadata": {
        "id": "ZPbK6B78BCrC"
      },
      "source": [
        "SUM RULE, PRODUCT RULE, AND BAYES' THEOREM"
      ]
    },
    {
      "cell_type": "code",
      "metadata": {
        "colab": {
          "base_uri": "https://localhost:8080/",
          "height": 0
        },
        "id": "AP6WxPJd9xbx",
        "outputId": "70e94dd9-49fe-4340-dc5f-1f16d8ee251a"
      },
      "source": [
        "As = [1,2,3,4]\n",
        "pA = [.25,.25,.25,.25]\n",
        "\n",
        "# Bayes: p(a|b) = p(a)*p(b|a) / p(b)\n",
        "bayes = lambda pa, pba, pbSum: pa*pba/pbSum\n",
        "\n",
        "allPa = [.5,.25,.25]\n",
        "allPb = [.3,.4,.5]\n",
        "\n",
        "# pb = event of winning =  all events of winning regardless of group, summed up \n",
        "# pb = sum of all p(a intersection b) = p(a)*p(b|a)\n",
        "pbSum = np.dot(allPa,allPb)\n",
        "\n",
        "\n",
        "# p(a) = .5, event of being in group a\n",
        "# p(b|a) = .3, event of winning, given that group\n",
        "bayes(allPa[0],allPb[0],pbSum)"
      ],
      "execution_count": 17,
      "outputs": [
        {
          "output_type": "execute_result",
          "data": {
            "text/plain": [
              "0.39999999999999997"
            ]
          },
          "metadata": {},
          "execution_count": 17
        }
      ]
    },
    {
      "cell_type": "markdown",
      "metadata": {
        "id": "SU6CsXkBBSfE"
      },
      "source": [
        "SUMMARY STATISTICS AND INDEPENDENCE"
      ]
    },
    {
      "cell_type": "code",
      "metadata": {
        "colab": {
          "base_uri": "https://localhost:8080/",
          "height": 180
        },
        "id": "pjW5n6h091jW",
        "outputId": "eb4c55f1-0483-46bd-ad40-a27abd4bd3d5"
      },
      "source": [
        "mean1 = np.array([10,2])\n",
        "mean2 = np.array([0,0])\n",
        "cov1 = np.vstack([[1,0],[0,1]])\n",
        "cov2 = np.vstack([[1.7,2.],[2.,8.4]]) # Note, diagonals flipped from book to match figure shape.\n",
        "Matrix(mean1)\n",
        "Matrix(cov1)\n",
        "Matrix(mean2)\n",
        "Matrix(cov2)"
      ],
      "execution_count": 18,
      "outputs": [
        {
          "output_type": "execute_result",
          "data": {
            "text/latex": "$\\displaystyle \\left[\\begin{matrix}10\\\\2\\end{matrix}\\right]$",
            "text/plain": [
              "Matrix([\n",
              "[10],\n",
              "[ 2]])"
            ]
          },
          "metadata": {},
          "execution_count": 18
        },
        {
          "output_type": "execute_result",
          "data": {
            "text/latex": "$\\displaystyle \\left[\\begin{matrix}1 & 0\\\\0 & 1\\end{matrix}\\right]$",
            "text/plain": [
              "Matrix([\n",
              "[1, 0],\n",
              "[0, 1]])"
            ]
          },
          "metadata": {},
          "execution_count": 18
        },
        {
          "output_type": "execute_result",
          "data": {
            "text/latex": "$\\displaystyle \\left[\\begin{matrix}0\\\\0\\end{matrix}\\right]$",
            "text/plain": [
              "Matrix([\n",
              "[0],\n",
              "[0]])"
            ]
          },
          "metadata": {},
          "execution_count": 18
        },
        {
          "output_type": "execute_result",
          "data": {
            "text/latex": "$\\displaystyle \\left[\\begin{matrix}1.7 & 2.0\\\\2.0 & 8.4\\end{matrix}\\right]$",
            "text/plain": [
              "Matrix([\n",
              "[1.7, 2.0],\n",
              "[2.0, 8.4]])"
            ]
          },
          "metadata": {},
          "execution_count": 18
        }
      ]
    },
    {
      "cell_type": "code",
      "metadata": {
        "colab": {
          "base_uri": "https://localhost:8080/",
          "height": 136
        },
        "id": "09wpluNs95DC",
        "outputId": "86129f99-0ec4-4ad2-965f-e8dcfc0fa2e2"
      },
      "source": [
        "n = 3000\n",
        "first = np.round(np.random.multivariate_normal(mean1, cov1, int(n/4))*.4,3) # n/4 to adjust distribution to book figure for countour plot.\n",
        "second = np.round(np.random.multivariate_normal(mean2, cov2, n)*.6,3)\n",
        "data = np.vstack([first,second])\n",
        "np.shape(data)\n",
        "Matrix(data[:5])"
      ],
      "execution_count": 19,
      "outputs": [
        {
          "output_type": "execute_result",
          "data": {
            "text/plain": [
              "(3750, 2)"
            ]
          },
          "metadata": {},
          "execution_count": 19
        },
        {
          "output_type": "execute_result",
          "data": {
            "text/latex": "$\\displaystyle \\left[\\begin{matrix}4.693 & 1.057\\\\4.018 & 1.976\\\\4.18 & 0.947\\\\3.613 & 0.904\\\\4.109 & 1.099\\end{matrix}\\right]$",
            "text/plain": [
              "Matrix([\n",
              "[4.693, 1.057],\n",
              "[4.018, 1.976],\n",
              "[ 4.18, 0.947],\n",
              "[3.613, 0.904],\n",
              "[4.109, 1.099]])"
            ]
          },
          "metadata": {},
          "execution_count": 19
        }
      ]
    },
    {
      "cell_type": "code",
      "metadata": {
        "colab": {
          "base_uri": "https://localhost:8080/",
          "height": 907
        },
        "id": "4-swAgpm9FNG",
        "outputId": "a8a06755-571c-4306-d563-d969cc6d6625"
      },
      "source": [
        "# Figure setup.\n",
        "fig = plt.figure(figsize=(14, 12))\n",
        "gs = GridSpec(2, 2, width_ratios=[4, 1], height_ratios=[1, 4])\n",
        "ax1 = fig.add_subplot(gs[0])\n",
        "ax3 = fig.add_subplot(gs[2])\n",
        "ax3.axis('equal')\n",
        "ax4 = fig.add_subplot(gs[3])\n",
        "bins = 100\n",
        "# Figure setup.\n",
        "\n",
        "# Central scatter plot.\n",
        "ax3.scatter(data[:,0],data[:,1], s = .5, alpha = .5)\n",
        "sns.kdeplot(data[:,0], data[:,1],n_levels=10, cmap=\"viridis_r\", ax = ax3, bw = 1)\n",
        "ax3.scatter(np.mean(data[:,0]),np.mean(data[:,1]), marker = \"o\", color = \"magenta\")\n",
        "ax3.scatter(max(set(first[:,0]), key=list(first[:,0]).count), max(set(first[:,1]), key=list(first[:,1]).count), marker = \"*\", c = \"k\")\n",
        "ax3.scatter(max(set(second[:,0]), key=list(second[:,0]).count), max(set(second[:,1]), key=list(second[:,1]).count), marker = \"*\", c = \"k\")\n",
        "# Central scatter plot.\n",
        "\n",
        "# X distribution.\n",
        "sns.distplot(data[:,0], ax = ax1, bins = bins)\n",
        "ax1.scatter(np.median(data[:,0]),0, label = \"median\", marker = \"s\", c = \"r\")\n",
        "ax1.scatter(np.mean(data[:,0]), 0, label = \"mean\", marker = \"o\", c = \"magenta\")\n",
        "ax1.scatter(max(set(first[:,0]), key=list(first[:,0]).count),0, label = \"modes\", marker = \"*\", c = \"k\")\n",
        "ax1.scatter(max(set(second[:,0]), key=list(second[:,0]).count),0, label=\"_nolegend_\", marker = \"*\", c = \"k\")\n",
        "ax1.legend()\n",
        "# X distribution.\n",
        "\n",
        "# Y distribution.\n",
        "sns.distplot(data[:,1], ax = ax4, vertical = True, bins = bins)\n",
        "ax4.scatter(0,max(set(first[:,1]), key=list(first[:,1]).count), marker = \"*\", c = \"k\")\n",
        "ax4.scatter(0,max(set(second[:,1]), key=list(second[:,1]).count), marker = \"*\", c = \"k\")\n",
        "ax4.scatter(0, np.mean(data[:,1]), marker = \"o\", c = \"magenta\")\n",
        "ax4.scatter(0,np.median(data[:,1]), marker = \"s\", c = \"r\");\n",
        "# Y distribution."
      ],
      "execution_count": 20,
      "outputs": [
        {
          "output_type": "stream",
          "name": "stderr",
          "text": [
            "/usr/local/lib/python3.7/dist-packages/seaborn/_decorators.py:43: FutureWarning: Pass the following variable as a keyword arg: y. From version 0.12, the only valid positional argument will be `data`, and passing other arguments without an explicit keyword will result in an error or misinterpretation.\n",
            "  FutureWarning\n",
            "/usr/local/lib/python3.7/dist-packages/seaborn/distributions.py:1699: FutureWarning: The `bw` parameter is deprecated in favor of `bw_method` and `bw_adjust`. Using 1 for `bw_method`, but please see the docs for the new parameters and update your code.\n",
            "  warnings.warn(msg, FutureWarning)\n",
            "/usr/local/lib/python3.7/dist-packages/seaborn/distributions.py:2619: FutureWarning: `distplot` is a deprecated function and will be removed in a future version. Please adapt your code to use either `displot` (a figure-level function with similar flexibility) or `histplot` (an axes-level function for histograms).\n",
            "  warnings.warn(msg, FutureWarning)\n",
            "/usr/local/lib/python3.7/dist-packages/seaborn/distributions.py:2619: FutureWarning: `distplot` is a deprecated function and will be removed in a future version. Please adapt your code to use either `displot` (a figure-level function with similar flexibility) or `histplot` (an axes-level function for histograms).\n",
            "  warnings.warn(msg, FutureWarning)\n",
            "/usr/local/lib/python3.7/dist-packages/seaborn/distributions.py:1689: FutureWarning: The `vertical` parameter is deprecated and will be removed in a future version. Assign the data to the `y` variable instead.\n",
            "  warnings.warn(msg, FutureWarning)\n"
          ]
        },
        {
          "output_type": "display_data",
          "data": {
            "image/png": "[encoded data removed]",
            "text/plain": [
              "<Figure size 1008x864 with 3 Axes>"
            ]
          },
          "metadata": {
            "needs_background": "light"
          }
        }
      ]
    },
    {
      "cell_type": "code",
      "metadata": {
        "colab": {
          "base_uri": "https://localhost:8080/",
          "height": 360
        },
        "id": "fyyqAihJ-AIK",
        "outputId": "0de020db-e03a-4fb8-edad-12ebf1fd5d20"
      },
      "source": [
        "# Data setup.\n",
        "A = 1+second@np.vstack([[-1,0],[0,1]])\n",
        "B = 1+second\n",
        "# Data setup.\n",
        "\n",
        "# Figure setup.\n",
        "fig = plt.figure(figsize=(14, 12))\n",
        "gs = GridSpec(2, 2)\n",
        "ax1 = fig.add_subplot(gs[0])\n",
        "ax1.axis(\"equal\")\n",
        "ax2 = fig.add_subplot(gs[1])\n",
        "ax2.axis(\"equal\")\n",
        "# Figure setup.\n",
        "\n",
        "# Left plot.\n",
        "ax1.scatter(A[:,0],A[:,1], c = \"k\")\n",
        "ax1.plot(np.mean(A[:,0])*np.ones(100),np.linspace(-4,6,100), c = \"yellow\", lw = 5)\n",
        "ax1.plot(np.linspace(-1,3,100),np.mean(A[:,1])*np.ones(100), c = \"magenta\", lw = 5)\n",
        "ax1.set_title(\"Variance along X is %1.1f.\" %np.var(A[:,0]) + \" and along Y is %1.1f.\" %np.var(A[:,1]))\n",
        "\n",
        "# Right plot.\n",
        "ax2.scatter(B[:,0],B[:,1], c = \"k\")\n",
        "ax2.plot(np.mean(B[:,0])*np.ones(100),np.linspace(-4,6,100), c = \"yellow\", lw = 5)\n",
        "ax2.plot(np.linspace(-1,3,100),np.mean(B[:,1])*np.ones(100), c = \"magenta\", lw = 5)\n",
        "ax2.set_title(\"Variance along X is %1.1f.\" %np.var(B[:,0]) + \" and along Y is %1.1f.\" %np.var(B[:,1]));"
      ],
      "execution_count": 42,
      "outputs": [
        {
          "output_type": "display_data",
          "data": {
            "image/png": "[encoded data removed]",
            "text/plain": [
              "<Figure size 1008x864 with 2 Axes>"
            ]
          },
          "metadata": {
            "needs_background": "light"
          }
        }
      ]
    },
    {
      "cell_type": "code",
      "metadata": {
        "colab": {
          "base_uri": "https://localhost:8080/",
          "height": 135
        },
        "id": "lmN4uYMC-EwE",
        "outputId": "db692bf0-9ee7-4f0a-a6db-0b82bebabbd8"
      },
      "source": [
        "\"A.\"\n",
        "Matrix(np.corrcoef(A[:,0],A[:,1]))\n",
        "\"B.\"\n",
        "Matrix(np.corrcoef(B[:,0],B[:,1]))"
      ],
      "execution_count": 22,
      "outputs": [
        {
          "output_type": "execute_result",
          "data": {
            "application/vnd.google.colaboratory.intrinsic+json": {
              "type": "string"
            },
            "text/plain": [
              "'A.'"
            ]
          },
          "metadata": {},
          "execution_count": 22
        },
        {
          "output_type": "execute_result",
          "data": {
            "text/latex": "$\\displaystyle \\left[\\begin{matrix}1.0 & -0.523095062574112\\\\-0.523095062574112 & 1.0\\end{matrix}\\right]$",
            "text/plain": [
              "Matrix([\n",
              "[               1.0, -0.523095062574112],\n",
              "[-0.523095062574112,                1.0]])"
            ]
          },
          "metadata": {},
          "execution_count": 22
        },
        {
          "output_type": "execute_result",
          "data": {
            "application/vnd.google.colaboratory.intrinsic+json": {
              "type": "string"
            },
            "text/plain": [
              "'B.'"
            ]
          },
          "metadata": {},
          "execution_count": 22
        },
        {
          "output_type": "execute_result",
          "data": {
            "text/latex": "$\\displaystyle \\left[\\begin{matrix}1.0 & 0.523095062574112\\\\0.523095062574112 & 1.0\\end{matrix}\\right]$",
            "text/plain": [
              "Matrix([\n",
              "[              1.0, 0.523095062574112],\n",
              "[0.523095062574112,               1.0]])"
            ]
          },
          "metadata": {},
          "execution_count": 22
        }
      ]
    },
    {
      "cell_type": "code",
      "metadata": {
        "colab": {
          "base_uri": "https://localhost:8080/",
          "height": 98
        },
        "id": "UapS9KTL-HLQ",
        "outputId": "76019cca-6d7b-4756-a27d-690482e2ce76"
      },
      "source": [
        "Matrix(np.cov(A[:,0],A[:,1])/np.sqrt(np.var(A[:,0])*np.var(A[:,1])))\n",
        "Matrix(np.cov(B[:,0],B[:,1])/np.sqrt(np.var(B[:,0])*np.var(B[:,1])))"
      ],
      "execution_count": 23,
      "outputs": [
        {
          "output_type": "execute_result",
          "data": {
            "text/latex": "$\\displaystyle \\left[\\begin{matrix}0.463557826932565 & -0.523269485736023\\\\-0.523269485736023 & 2.15866703571759\\end{matrix}\\right]$",
            "text/plain": [
              "Matrix([\n",
              "[ 0.463557826932565, -0.523269485736023],\n",
              "[-0.523269485736023,   2.15866703571759]])"
            ]
          },
          "metadata": {},
          "execution_count": 23
        },
        {
          "output_type": "execute_result",
          "data": {
            "text/latex": "$\\displaystyle \\left[\\begin{matrix}0.463557826932565 & 0.523269485736023\\\\0.523269485736023 & 2.15866703571759\\end{matrix}\\right]$",
            "text/plain": [
              "Matrix([\n",
              "[0.463557826932565, 0.523269485736023],\n",
              "[0.523269485736023,  2.15866703571759]])"
            ]
          },
          "metadata": {},
          "execution_count": 23
        }
      ]
    },
    {
      "cell_type": "code",
      "metadata": {
        "colab": {
          "base_uri": "https://localhost:8080/",
          "height": 0
        },
        "id": "g3wTZwxF-J32",
        "outputId": "44ccef0d-40c9-4c10-d95c-ba4257c8e407"
      },
      "source": [
        "np.mean([(i - np.mean(A[:,0]))**2 for i in A[:,0]])\n",
        "np.mean(A[:,0]**2)-np.mean(A[:,0])**2\n",
        "(np.sum(A[:,0]**2) /len(A[:,0]) - (np.sum(A[:,0])/len(A[:,0]))**2) #*2 \n",
        "np.var(A[:,0])"
      ],
      "execution_count": 24,
      "outputs": [
        {
          "output_type": "execute_result",
          "data": {
            "text/plain": [
              "0.6072901396"
            ]
          },
          "metadata": {},
          "execution_count": 24
        },
        {
          "output_type": "execute_result",
          "data": {
            "text/plain": [
              "0.6072901396000002"
            ]
          },
          "metadata": {},
          "execution_count": 24
        },
        {
          "output_type": "execute_result",
          "data": {
            "text/plain": [
              "0.6072901396000002"
            ]
          },
          "metadata": {},
          "execution_count": 24
        },
        {
          "output_type": "execute_result",
          "data": {
            "text/plain": [
              "0.6072901396"
            ]
          },
          "metadata": {},
          "execution_count": 24
        }
      ]
    },
    {
      "cell_type": "code",
      "metadata": {
        "colab": {
          "base_uri": "https://localhost:8080/"
        },
        "id": "Tigz9eqv-MuG",
        "outputId": "c2bc6073-e0ad-4410-c69f-58a403184fb8"
      },
      "source": [
        "np.mean(A[:,0] + A[:,1]), np.mean(A[:,0]) + np.mean(A[:,1]) # 6.46\n",
        "np.mean(A[:,0] - A[:,1]), np.mean(A[:,0]) - np.mean(A[:,1]) # 6.47\n",
        "np.var(A[:,0] + A[:,1])\n",
        "np.var(A[:,0]) + np.var(A[:,1]) + np.cov(A[:,0], A[:,1]) + np.cov(A[:,1], A[:,0]) # 6.48\n",
        "np.var(A[:,0] - A[:,1])\n",
        "np.var(A[:,0]) + np.var(A[:,1]) - np.cov(A[:,0], A[:,1]) - np.cov(A[:,1], A[:,0]) # 6.49"
      ],
      "execution_count": 43,
      "outputs": [
        {
          "output_type": "execute_result",
          "data": {
            "text/plain": [
              "(1.9845333333333333, 1.9845333333333333)"
            ]
          },
          "metadata": {},
          "execution_count": 43
        },
        {
          "output_type": "execute_result",
          "data": {
            "text/plain": [
              "(0.000626666666666677, 0.0006266666666665532)"
            ]
          },
          "metadata": {},
          "execution_count": 43
        },
        {
          "output_type": "execute_result",
          "data": {
            "text/plain": [
              "2.0642484048888887"
            ]
          },
          "metadata": {},
          "execution_count": 43
        },
        {
          "output_type": "execute_result",
          "data": {
            "text/plain": [
              "array([[6.87170708, 2.06379124],\n",
              "       [2.06379124, 6.87170708]])"
            ]
          },
          "metadata": {},
          "execution_count": 43
        },
        {
          "output_type": "execute_result",
          "data": {
            "text/plain": [
              "4.806313196622222"
            ]
          },
          "metadata": {},
          "execution_count": 43
        },
        {
          "output_type": "execute_result",
          "data": {
            "text/plain": [
              "array([[-1.14547543e-03,  4.80677036e+00],\n",
              "       [ 4.80677036e+00, -1.14547543e-03]])"
            ]
          },
          "metadata": {},
          "execution_count": 43
        }
      ]
    },
    {
      "cell_type": "code",
      "metadata": {
        "colab": {
          "base_uri": "https://localhost:8080/",
          "height": 0
        },
        "id": "0BEYLYh6-O1e",
        "outputId": "782ce937-79c7-4d01-f001-dda8a8624708"
      },
      "source": [
        "tempX = np.random.standard_normal(100000)\n",
        "np.mean(tempX)\n",
        "np.mean(tempX**3)\n",
        "tempY = tempX**2\n",
        "tempY"
      ],
      "execution_count": 26,
      "outputs": [
        {
          "output_type": "execute_result",
          "data": {
            "text/plain": [
              "0.006374755886685657"
            ]
          },
          "metadata": {},
          "execution_count": 26
        },
        {
          "output_type": "execute_result",
          "data": {
            "text/plain": [
              "0.02168022770808372"
            ]
          },
          "metadata": {},
          "execution_count": 26
        },
        {
          "output_type": "execute_result",
          "data": {
            "text/plain": [
              "array([6.89006532e-02, 2.00273508e-04, 3.30850947e-02, ...,\n",
              "       2.55053860e+00, 2.30290085e-01, 3.19529649e-01])"
            ]
          },
          "metadata": {},
          "execution_count": 26
        }
      ]
    },
    {
      "cell_type": "code",
      "metadata": {
        "colab": {
          "base_uri": "https://localhost:8080/",
          "height": 0
        },
        "id": "VGwFR2z1-SUL",
        "outputId": "2b3904be-0c61-4a00-b882-8b8ed346a2b1"
      },
      "source": [
        "np.cov(tempX,tempY)[1][0]\n",
        "np.mean(tempX*tempY) - np.mean(tempX)*np.mean(tempY)\n",
        "np.mean(tempX**3)"
      ],
      "execution_count": 27,
      "outputs": [
        {
          "output_type": "execute_result",
          "data": {
            "text/plain": [
              "0.015292384355593266"
            ]
          },
          "metadata": {},
          "execution_count": 27
        },
        {
          "output_type": "execute_result",
          "data": {
            "text/plain": [
              "0.015292231431749709"
            ]
          },
          "metadata": {},
          "execution_count": 27
        },
        {
          "output_type": "execute_result",
          "data": {
            "text/plain": [
              "0.02168022770808372"
            ]
          },
          "metadata": {},
          "execution_count": 27
        }
      ]
    },
    {
      "cell_type": "code",
      "metadata": {
        "colab": {
          "base_uri": "https://localhost:8080/",
          "height": 0
        },
        "id": "khQj03NN-UYB",
        "outputId": "f546d8f8-8cae-484c-a319-b11c082f72c8"
      },
      "source": [
        "# 6.60\n",
        "np.sqrt(np.cov(tempX,tempX)) \n",
        "np.var(tempX)"
      ],
      "execution_count": 28,
      "outputs": [
        {
          "output_type": "execute_result",
          "data": {
            "text/plain": [
              "array([[1.00102267, 1.00102267],\n",
              "       [1.00102267, 1.00102267]])"
            ]
          },
          "metadata": {},
          "execution_count": 28
        },
        {
          "output_type": "execute_result",
          "data": {
            "text/plain": [
              "1.0020363658869977"
            ]
          },
          "metadata": {},
          "execution_count": 28
        }
      ]
    },
    {
      "cell_type": "code",
      "metadata": {
        "colab": {
          "base_uri": "https://localhost:8080/",
          "height": 0
        },
        "id": "GZmdatM6-Wis",
        "outputId": "795d2545-134d-4ec3-db89-362d59a5286d"
      },
      "source": [
        "# 6.61\n",
        "cosAngle = lambda x, y: (np.dot(x.T,y)/np.sqrt(np.dot(np.dot(x.T,x),np.dot(y.T,y))))\n",
        "angle = lambda cos: np.arccos(cos)*(180/np.pi)\n",
        "angle(cosAngle(tempX,tempY))\n",
        "angle((np.cov(tempX,tempY)/np.sqrt(np.var(tempX)*np.var(tempY))))"
      ],
      "execution_count": 29,
      "outputs": [
        {
          "output_type": "execute_result",
          "data": {
            "text/plain": [
              "89.28709879179692"
            ]
          },
          "metadata": {},
          "execution_count": 29
        },
        {
          "output_type": "stream",
          "name": "stderr",
          "text": [
            "/usr/local/lib/python3.7/dist-packages/ipykernel_launcher.py:3: RuntimeWarning: invalid value encountered in arccos\n",
            "  This is separate from the ipykernel package so we can avoid doing imports until\n"
          ]
        },
        {
          "output_type": "execute_result",
          "data": {
            "text/plain": [
              "array([[45.30658861, 89.38501153],\n",
              "       [89.38501153,         nan]])"
            ]
          },
          "metadata": {},
          "execution_count": 29
        }
      ]
    },
    {
      "cell_type": "code",
      "metadata": {
        "colab": {
          "base_uri": "https://localhost:8080/",
          "height": 0
        },
        "id": "QDMIqiZN-cC6",
        "outputId": "91b71aba-7b7e-4f43-c9d5-2ec663b5dd52"
      },
      "source": [
        "A = np.sqrt(np.var(tempX)) # Vector magnitudes.\n",
        "B = np.sqrt(np.var(tempY))\n",
        "C = np.sqrt(np.var(tempX+tempY)) \n",
        "A,B,C\n",
        "theta = np.arctan(B)/A # Calculating C direction.\n",
        "theta, angle(theta)\n",
        "Cvec = np.dot(npl.norm(C),[np.cos(theta),np.sin(theta)])[::-1]\n",
        "Cvec"
      ],
      "execution_count": 30,
      "outputs": [
        {
          "output_type": "execute_result",
          "data": {
            "text/plain": [
              "(1.0010176651223484, 1.4233033236893253, 1.7488319473224345)"
            ]
          },
          "metadata": {},
          "execution_count": 30
        },
        {
          "output_type": "execute_result",
          "data": {
            "text/plain": [
              "(0.9573593305323178, 16.792101962631985)"
            ]
          },
          "metadata": {},
          "execution_count": 30
        },
        {
          "output_type": "execute_result",
          "data": {
            "text/plain": [
              "array([1.42997483, 1.00676967])"
            ]
          },
          "metadata": {},
          "execution_count": 30
        }
      ]
    },
    {
      "cell_type": "code",
      "metadata": {
        "colab": {
          "base_uri": "https://localhost:8080/",
          "height": 592
        },
        "id": "CXPlqVMy-exX",
        "outputId": "c6ac2d3b-91b0-4611-edaf-373690b28f6d"
      },
      "source": [
        "scale = 10\n",
        "plt.quiver(*[B,0],*[0,A], scale = scale, width = .01,  color = \"green\", label = r\"A: $\\sqrt{var[x]}$\")\n",
        "plt.quiver(B,0, scale = scale, width = .01, color = \"red\", label = r\"B: $\\sqrt{var[y]}$\")\n",
        "plt.quiver(*[0,0],*Cvec, scale = scale, width = .01,  color = \"violet\", label = r\"C: $\\sqrt{var[x+y]}$\")\n",
        "plt.axis([-scale/2,scale/2,-scale/2,scale/2])\n",
        "plt.legend();"
      ],
      "execution_count": 41,
      "outputs": [
        {
          "output_type": "display_data",
          "data": {
            "image/png": "[encoded data removed]",
            "text/plain": [
              "<Figure size 720x720 with 1 Axes>"
            ]
          },
          "metadata": {
            "needs_background": "light"
          }
        }
      ]
    }
  ]
}