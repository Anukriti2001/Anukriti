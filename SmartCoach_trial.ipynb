{
  "nbformat": 4,
  "nbformat_minor": 0,
  "metadata": {
    "colab": {
      "provenance": [],
      "authorship_tag": "ABX9TyOdWKFe+AeNCoJkGxpS94ju",
      "include_colab_link": true
    },
    "kernelspec": {
      "name": "python3",
      "display_name": "Python 3"
    },
    "language_info": {
      "name": "python"
    }
  },
  "cells": [
    {
      "cell_type": "markdown",
      "metadata": {
        "id": "view-in-github",
        "colab_type": "text"
      },
      "source": [
        "<a href=\"https://colab.research.google.com/github/Anukriti2001/Anukriti/blob/master/SmartCoach_trial.ipynb\" target=\"_parent\"><img src=\"https://colab.research.google.com/assets/colab-badge.svg\" alt=\"Open In Colab\"/></a>"
      ]
    },
    {
      "cell_type": "markdown",
      "source": [
        "Importing necessary libraries and modules"
      ],
      "metadata": {
        "id": "PtmWJuQ1HFBv"
      }
    },
    {
      "cell_type": "code",
      "execution_count": null,
      "metadata": {
        "id": "7PCKqq5TYllE"
      },
      "outputs": [],
      "source": [
        "import pandas as pd #for data manipulation and analysis\n",
        "import numpy as np #for multidimensional arrays\n",
        "import re #for regular expressions\n",
        "from numpy import log\n",
        "import matplotlib.pyplot as plt #for visualization"
      ]
    },
    {
      "cell_type": "code",
      "source": [
        "from keras.models import Sequential\n",
        "from keras.layers import Dense, Dropout, Conv2D, MaxPooling2D, Activation, Flatten\n",
        "from keras.optimizers import Adam\n",
        "from keras.callbacks import TensorBoard\n",
        "import tensorflow as tf\n",
        "#from tensorflow.keras.optimizers.legacy import Adam\n",
        "from collections import deque\n",
        "import time\n",
        "import random\n",
        "from tqdm import tqdm\n",
        "import os"
      ],
      "metadata": {
        "id": "mb8rUYiTuRW7"
      },
      "execution_count": null,
      "outputs": []
    },
    {
      "cell_type": "code",
      "source": [
        "!pip install gym"
      ],
      "metadata": {
        "id": "T_4bmY4nYof-",
        "colab": {
          "base_uri": "https://localhost:8080/"
        },
        "outputId": "c4d22589-639c-4b62-f36b-1aa78a0f6d11"
      },
      "execution_count": null,
      "outputs": [
        {
          "output_type": "stream",
          "name": "stdout",
          "text": [
            "Looking in indexes: https://pypi.org/simple, https://us-python.pkg.dev/colab-wheels/public/simple/\n",
            "Requirement already satisfied: gym in /usr/local/lib/python3.9/dist-packages (0.21.0)\n",
            "Requirement already satisfied: cloudpickle>=1.2.0 in /usr/local/lib/python3.9/dist-packages (from gym) (2.2.1)\n",
            "Requirement already satisfied: numpy>=1.18.0 in /usr/local/lib/python3.9/dist-packages (from gym) (1.22.4)\n"
          ]
        }
      ]
    },
    {
      "cell_type": "code",
      "source": [
        "import gym\n",
        "import numpy as np"
      ],
      "metadata": {
        "id": "_yQyX2H3YpQ8"
      },
      "execution_count": null,
      "outputs": []
    },
    {
      "cell_type": "code",
      "source": [
        "!pip install stable-baselines3"
      ],
      "metadata": {
        "id": "jK0gX8yiZ6kB",
        "colab": {
          "base_uri": "https://localhost:8080/"
        },
        "outputId": "7f28bb94-8f9b-4d9e-f8a6-6e13706aad60"
      },
      "execution_count": null,
      "outputs": [
        {
          "output_type": "stream",
          "name": "stdout",
          "text": [
            "Looking in indexes: https://pypi.org/simple, https://us-python.pkg.dev/colab-wheels/public/simple/\n",
            "Requirement already satisfied: stable-baselines3 in /usr/local/lib/python3.9/dist-packages (1.7.0)\n",
            "Requirement already satisfied: numpy in /usr/local/lib/python3.9/dist-packages (from stable-baselines3) (1.22.4)\n",
            "Requirement already satisfied: cloudpickle in /usr/local/lib/python3.9/dist-packages (from stable-baselines3) (2.2.1)\n",
            "Requirement already satisfied: matplotlib in /usr/local/lib/python3.9/dist-packages (from stable-baselines3) (3.5.3)\n",
            "Requirement already satisfied: torch>=1.11 in /usr/local/lib/python3.9/dist-packages (from stable-baselines3) (1.13.1+cu116)\n",
            "Requirement already satisfied: gym==0.21 in /usr/local/lib/python3.9/dist-packages (from stable-baselines3) (0.21.0)\n",
            "Requirement already satisfied: pandas in /usr/local/lib/python3.9/dist-packages (from stable-baselines3) (1.4.4)\n",
            "Requirement already satisfied: importlib-metadata~=4.13 in /usr/local/lib/python3.9/dist-packages (from stable-baselines3) (4.13.0)\n",
            "Requirement already satisfied: zipp>=0.5 in /usr/local/lib/python3.9/dist-packages (from importlib-metadata~=4.13->stable-baselines3) (3.15.0)\n",
            "Requirement already satisfied: typing-extensions in /usr/local/lib/python3.9/dist-packages (from torch>=1.11->stable-baselines3) (4.5.0)\n",
            "Requirement already satisfied: cycler>=0.10 in /usr/local/lib/python3.9/dist-packages (from matplotlib->stable-baselines3) (0.11.0)\n",
            "Requirement already satisfied: kiwisolver>=1.0.1 in /usr/local/lib/python3.9/dist-packages (from matplotlib->stable-baselines3) (1.4.4)\n",
            "Requirement already satisfied: python-dateutil>=2.7 in /usr/local/lib/python3.9/dist-packages (from matplotlib->stable-baselines3) (2.8.2)\n",
            "Requirement already satisfied: packaging>=20.0 in /usr/local/lib/python3.9/dist-packages (from matplotlib->stable-baselines3) (23.0)\n",
            "Requirement already satisfied: pillow>=6.2.0 in /usr/local/lib/python3.9/dist-packages (from matplotlib->stable-baselines3) (8.4.0)\n",
            "Requirement already satisfied: fonttools>=4.22.0 in /usr/local/lib/python3.9/dist-packages (from matplotlib->stable-baselines3) (4.39.0)\n",
            "Requirement already satisfied: pyparsing>=2.2.1 in /usr/local/lib/python3.9/dist-packages (from matplotlib->stable-baselines3) (3.0.9)\n",
            "Requirement already satisfied: pytz>=2020.1 in /usr/local/lib/python3.9/dist-packages (from pandas->stable-baselines3) (2022.7.1)\n",
            "Requirement already satisfied: six>=1.5 in /usr/local/lib/python3.9/dist-packages (from python-dateutil>=2.7->matplotlib->stable-baselines3) (1.15.0)\n"
          ]
        }
      ]
    },
    {
      "cell_type": "markdown",
      "source": [
        "State Space : Heart Rate, Systolic Blood Pressure, Diastolic Blood Pressure, Oxygen levels and Calories Burnt\n",
        "\n",
        "Additional data input: Gender, Age, Height, Weight\n",
        "\n",
        "Action Space: Normal treadmill walk(low level), Aerobic treadmill walk(moderate level), High intensity treadmill walk(HIIT level), Treadmill run, Cycling, Rest(Cool down)"
      ],
      "metadata": {
        "id": "MZEgBNTiYuO4"
      }
    },
    {
      "cell_type": "markdown",
      "source": [
        "Gender = 0 for female and 1 for male"
      ],
      "metadata": {
        "id": "ffQ__pGtcqFQ"
      }
    },
    {
      "cell_type": "code",
      "source": [
        "gender = np.random.randint(0,3)\n",
        "gender"
      ],
      "metadata": {
        "id": "dmALFAO7cjkP",
        "colab": {
          "base_uri": "https://localhost:8080/"
        },
        "outputId": "b664efef-c9ba-4118-adea-5a8a3a6687d2"
      },
      "execution_count": null,
      "outputs": [
        {
          "output_type": "execute_result",
          "data": {
            "text/plain": [
              "1"
            ]
          },
          "metadata": {},
          "execution_count": 72
        }
      ]
    },
    {
      "cell_type": "code",
      "source": [
        "age = np.random.randint(20,70)\n",
        "age"
      ],
      "metadata": {
        "id": "r5K9Y9yw3rak",
        "colab": {
          "base_uri": "https://localhost:8080/"
        },
        "outputId": "1d223013-7b3b-483a-c096-0faf60454ca0"
      },
      "execution_count": null,
      "outputs": [
        {
          "output_type": "execute_result",
          "data": {
            "text/plain": [
              "33"
            ]
          },
          "metadata": {},
          "execution_count": 73
        }
      ]
    },
    {
      "cell_type": "code",
      "source": [
        "weight = np.random.randint(50,108)\n",
        "weight"
      ],
      "metadata": {
        "id": "ho4gEqIFUcjm",
        "colab": {
          "base_uri": "https://localhost:8080/"
        },
        "outputId": "e68c554c-a650-4589-cb19-1ebc371565a5"
      },
      "execution_count": null,
      "outputs": [
        {
          "output_type": "execute_result",
          "data": {
            "text/plain": [
              "87"
            ]
          },
          "metadata": {},
          "execution_count": 74
        }
      ]
    },
    {
      "cell_type": "code",
      "source": [
        "height = np.random.randint(150,180)\n",
        "height"
      ],
      "metadata": {
        "id": "DdxOelIgYXYR",
        "colab": {
          "base_uri": "https://localhost:8080/"
        },
        "outputId": "326a84e3-6490-4495-8a45-93996e771b4f"
      },
      "execution_count": null,
      "outputs": [
        {
          "output_type": "execute_result",
          "data": {
            "text/plain": [
              "157"
            ]
          },
          "metadata": {},
          "execution_count": 75
        }
      ]
    },
    {
      "cell_type": "code",
      "source": [
        "bmi = weight/((height/100) * (height/100))\n",
        "bmi"
      ],
      "metadata": {
        "id": "I_lG3V2cY0bX",
        "colab": {
          "base_uri": "https://localhost:8080/"
        },
        "outputId": "56751649-78e3-4bc8-f6e8-b2640d1254b0"
      },
      "execution_count": null,
      "outputs": [
        {
          "output_type": "execute_result",
          "data": {
            "text/plain": [
              "35.295549515193315"
            ]
          },
          "metadata": {},
          "execution_count": 76
        }
      ]
    },
    {
      "cell_type": "code",
      "source": [
        "if(gender == 0):\n",
        "  gd = 3\n",
        "else:\n",
        "  gd = 4"
      ],
      "metadata": {
        "id": "ZufZZRhSigtZ"
      },
      "execution_count": null,
      "outputs": []
    },
    {
      "cell_type": "markdown",
      "source": [
        "Defining heart rates for different zones"
      ],
      "metadata": {
        "id": "S__lH8pqIPAZ"
      }
    },
    {
      "cell_type": "code",
      "source": [
        "#also for 100% intensity(heart rate)\n",
        "max_hr = 211 - (0.64 * age)\n",
        "max_hr"
      ],
      "metadata": {
        "colab": {
          "base_uri": "https://localhost:8080/"
        },
        "id": "0edMLn7n4Q6j",
        "outputId": "3d02b2ba-a169-4675-b7cc-b117a8bad623"
      },
      "execution_count": null,
      "outputs": [
        {
          "output_type": "execute_result",
          "data": {
            "text/plain": [
              "189.88"
            ]
          },
          "metadata": {},
          "execution_count": 78
        }
      ]
    },
    {
      "cell_type": "code",
      "source": [
        "#heart rate\n",
        "general_thr_min = 60\n",
        "general_thr_max = 100\n",
        "safe_zone_min = 0.6 * max_hr\n",
        "safe_zone_max = 0.9 * max_hr\n",
        "walking_thr_min = 0.5 * max_hr\n",
        "walking_thr_max = 0.85 * max_hr\n",
        "walking_aerobic_min = 0.7 * max_hr\n",
        "walking_aerobic_max = 0.8 * max_hr\n",
        "walking_hiit_min = 0.8 * max_hr\n",
        "walking_hiit_max = max_hr\n",
        "running_hiit_min = 0.7 * max_hr\n",
        "running_hiit_max = 0.85 * max_hr\n",
        "cycling_min = 0.5 * max_hr\n",
        "cycling_max = 0.6 * max_hr\n",
        "weightllifting_min = 0.8 * max_hr\n",
        "weightllifting_max = 0.95 * max_hr"
      ],
      "metadata": {
        "id": "ztQyKN1X8nMd"
      },
      "execution_count": null,
      "outputs": []
    },
    {
      "cell_type": "markdown",
      "source": [
        "Defining blood pressure for different zones"
      ],
      "metadata": {
        "id": "Ffqo0hb6IWbi"
      }
    },
    {
      "cell_type": "code",
      "source": [
        "#blood pressure\n",
        "normal_sys_max = 120\n",
        "normal_dia_max = 80\n",
        "normal_sys_min = 90\n",
        "normal_dia_min = 60\n",
        "#normal_bp = normal_sys_max & normal_dia_max\n",
        "elevated_sys_min = 120\n",
        "elevated_sys_max = 129\n",
        "elevated_dia_max = 80\n",
        "#elevated_bp = (elevated_sys_min || elevated_sys_max) & elevated_dia_max\n",
        "hyper1_sys_min = 130\n",
        "hyper1_sys_max = 139\n",
        "hyper1_dia_min = 80\n",
        "hyper1_dia_max = 89\n",
        "#hyper1_bp = (hyper1_sys_min || hyper1_sys_max) | (hyper1_dia_min || hyper1_dia_max)\n",
        "hyper2_sys_min = 140\n",
        "hyper2_sys_max = 179\n",
        "hyper2_dia_min = 90\n",
        "hyper2_dia_max = 119\n",
        "#hyper2_bp = (hyper2_sys_min || hyper2_sys_max) | (hyper2_dia_min || hyper2_dia_max)\n",
        "hyper3_sys_min = 180\n",
        "hyper3_dia_min = 120\n",
        "#hyper3_bp = (hyper1_sys_min || hyper1_sys_max) &| (hyper1_dia_min || hyper1_dia_max)\n",
        "exc_sys_min = -4\n",
        "exc_sys_max = -12\n",
        "exc_dia_min = -6\n",
        "exc_dia_max = 9\n",
        "wl_sys_min = -6.7\n",
        "wl_sys_max = -2.8\n",
        "wl_dia_min = -4.9\n",
        "wl_dia_max = -2.1\n",
        "risky_dia_min = +10\n",
        "run_sys_normal_min = 160\n",
        "run_sys_normal_max = 200\n",
        "run_dia_normal = 70 \n",
        "run_sys_risk_min = 225\n",
        "moderate_run_sys_risk_min = 210\n",
        "risky_sys3minstread_syspeak = 0.9\n",
        "#run_rest_bp < pre_exc_level\n",
        "aerobic_walking_min = -5\n",
        "aerobic_walking_max = -7\n",
        "exc_hyper_men_min = 210\n",
        "exc_hyper_women_min = 190\n",
        "risky_dia_min = +10"
      ],
      "metadata": {
        "id": "TY21zmYIKCCJ"
      },
      "execution_count": null,
      "outputs": []
    },
    {
      "cell_type": "markdown",
      "source": [
        "Defining oxygen levels for different zones"
      ],
      "metadata": {
        "id": "Ffm6-fHwIfZI"
      }
    },
    {
      "cell_type": "code",
      "source": [
        "#spo2\n",
        "normal_spo2_min = 0.95\n",
        "normal_spo2_max = 1.00\n",
        "mild_hypoxia_spo2_min = 0.91\n",
        "mild_hypoxia_spo2_max = 0.94\n",
        "moderate_hypoxia_spo2_min = 0.86\n",
        "moderate_hypoxia_spo2_max = 0.90\n",
        "severe_hypoxia_spo2_max = 0.85\n",
        "\n",
        "hiit_spo2_min = 0.887\n",
        "hiit_spo2_max = 0.95\n",
        "running_spo2_min = -0.02\n",
        "running_spo2_max = -0.03\n",
        "cycling_spo2_min = 0.84\n",
        "cycling_spo2_max = 0.95\n",
        "safe_spo2_min = 0.92\n",
        "safe_spo2_max = 0.99\n",
        "risky_spo2_max = 0.87\n",
        "\n",
        "eih_drop_men = -0.04\n",
        "eih_drop_women = -0.03\n",
        "#with each additional 1% decrement in spO2 resulting in a 1% decrement in VO2max. "
      ],
      "metadata": {
        "id": "aI8f_OaoKDri"
      },
      "execution_count": null,
      "outputs": []
    },
    {
      "cell_type": "code",
      "source": [
        "#vo2max  absolute values\n",
        "vo2_men_normal_min = 35\n",
        "vo2_men_normal_max = 40\n",
        "vo2_women_normal_min = 27\n",
        "vo2_women_normal_max = 30\n",
        "\n",
        "lactate_threshold_min_men = 0.5 * vo2_men_normal_min\n",
        "lactate_threshold_max_men= 0.8 * vo2_men_normal_min\n",
        "lactate_threshold_min_women = 0.5 * vo2_women_normal_min\n",
        "lactate_threshold_max_women= 0.8 * vo2_women_normal_min"
      ],
      "metadata": {
        "id": "69BGSzu9XtB4"
      },
      "execution_count": null,
      "outputs": []
    },
    {
      "cell_type": "code",
      "source": [
        "#vo2 table men\n",
        "\n",
        "#max = upper min - 1\n",
        "\n",
        "vo2_men_exc_min = (-0.4879 * age) + 68.5\n",
        "vo2_men_good_max = vo2_men_exc_min - 1\n",
        "vo2_men_good_min = (-0.40524 * age) + 58.75\n",
        "vo2_men_aboveavg_max = vo2_men_good_min - 1 \n",
        "vo2_men_aboveavg_min = (-0.36976 * age) + 52.95 \n",
        "vo2_men_avg_max = vo2_men_aboveavg_min - 1\n",
        "vo2_men_avg_min = (-0.33226 * age) + 47.9 \n",
        "vo2_men_belowavg_max = vo2_men_avg_min - 1\n",
        "vo2_men_belowavg_min = (-0.30605 * age) + 42.65 \n",
        "vo2_men_poor_max = vo2_men_belowavg_min - 1\n",
        "vo2_men_poor_min = (-0.22137 * age) + 34.65 \n",
        "vo2_men_vpoor_max = (-0.22137 * age) + 34.65 "
      ],
      "metadata": {
        "id": "7DaXBSU_khh4"
      },
      "execution_count": null,
      "outputs": []
    },
    {
      "cell_type": "code",
      "source": [
        "#vo2 table women\n",
        "vo2_women_exc_min = (-0.49919 * age) + 64.3\n",
        "vo2_women_good_max = vo2_women_exc_min - 1 \n",
        "vo2_women_good_min = (-0.40565 * age) + 54.1 \n",
        "vo2_women_aboveavg_max = vo2_women_good_min - 1 \n",
        "vo2_women_aboveavg_min = (-0.35524 * age) + 47.85 \n",
        "vo2_women_avg_max = vo2_women_aboveavg_min - 1\n",
        "vo2_women_avg_min = (-0.33185 * age) + 43.55 \n",
        "vo2_women_belowavg_max = vo2_women_avg_min - 1\n",
        "vo2_women_belowavg_min = (-0.29113 * age) + 38.2 \n",
        "vo2_women_poor_max = vo2_women_belowavg_min - 1\n",
        "vo2_women_poor_min = (-0.2375 * age) + 31.65 \n",
        "vo2_women_vpoor_max = (-0.2375 * age) + 31.65"
      ],
      "metadata": {
        "id": "Mbk5wRrpm-jl"
      },
      "execution_count": null,
      "outputs": []
    },
    {
      "cell_type": "markdown",
      "source": [
        "Defining calories burnt per half hour for different zones"
      ],
      "metadata": {
        "id": "O6Je95zZIu6Y"
      }
    },
    {
      "cell_type": "code",
      "source": [
        "#calories\n",
        "#half hour\n",
        "aerobic_cycling_women = 202\n",
        "aerobic_cycling_men = 225\n",
        "hiit_cycling_women = 314\n",
        "hiit_cycling_men = 358 \n",
        "run_min = 250\n",
        "run_max = 500\n",
        "cycle_min = 50\n",
        "cycle_max = 325\n",
        "\n",
        "#dist_km = 23 * dist\n",
        "rmr_women = (9.99 * weight) + (6.25 * height) - (4.92 * age) - 161\n",
        "rmr_men = (9.99 * weight) + (6.25 * height) - (4.92 * age) + 5\n",
        "pal_little_no_exc = 1.2\n",
        "pal_light_exc = 1.375\n",
        "pal_moderate_exc = 1.55\n",
        "pal_heavy_exc = 1.725\n",
        "pal_very_heavy_exc = 2\n",
        "cal_walk_min = 92\n",
        "cal_walk_max = 250\n",
        "cal_aerobic_walking = 129\n",
        "cal_running = 340\n",
        "cal_running_5miles = 292\n",
        "cal_running_8miles = 493\n",
        "normal_walk_mets = 3\n",
        "aerobic_walk_mets = 4\n",
        "hiit_walk_mets = 5\n",
        "run_mets = 10\n",
        "cycle_mets = 8\n",
        "weightlifting_mets = 6"
      ],
      "metadata": {
        "id": "yzErJ5_2KGBl"
      },
      "execution_count": null,
      "outputs": []
    },
    {
      "cell_type": "code",
      "source": [
        "#calory table\n",
        "cal_cycle_women = (0.89391 * weight) + 25.53454\n",
        "cal_aerobic_cycle_women = (0.0752 * weight) + 211.95333\n",
        "cal_hiit_cycle_women = (4.12807 * weight) + 24.11874\n",
        "\n",
        "cal_cycle_men = (0.64169 * weight) + 38.99398 \n",
        "cal_aerobic_cycle_men = (2.25734 * weight) + 38.25237\n",
        "cal_hiit_cycle_men = (3.85403 * weight) + 39.57848\n",
        "\n",
        "\n",
        "cal_run_5mph = (4.10296 * weight) - 8.35063\n",
        "cal_run_6mph = (5.12931 * weight) - 10.60965\n",
        "cal_run_7mph = (5.84921 * weight) - 8.50223\n",
        "cal_run_8mph = (6.87556 * weight) - 10.76125\n",
        "cal_run_9mph = (7.40454 * weight) + 3.65383\n",
        "cal_run_10mph = (8.18889 * weight) - 15.90312"
      ],
      "metadata": {
        "id": "x2YyGrjcUmVJ"
      },
      "execution_count": null,
      "outputs": []
    },
    {
      "cell_type": "markdown",
      "source": [
        "Initial state"
      ],
      "metadata": {
        "id": "58JEXsTQI7lr"
      }
    },
    {
      "cell_type": "code",
      "source": [
        "state = {\n",
        "    'heartrate' : np.random.uniform(general_thr_min, general_thr_max),\n",
        "    'sys_bp': np.random.uniform(normal_sys_min, normal_sys_max),\n",
        "    'dia_bp': np.random.uniform(normal_dia_min, normal_dia_max),\n",
        "    'spo2' : np.random.uniform(normal_spo2_min, normal_spo2_max),\n",
        "    #'vo2' : np.random.uniform(9 * gd, 10 * gd),\n",
        "    'calories_burnt' : 0,\n",
        "    'duration_mins' : 0\n",
        "}"
      ],
      "metadata": {
        "id": "HQG1dSPbY7RC"
      },
      "execution_count": null,
      "outputs": []
    },
    {
      "cell_type": "code",
      "source": [
        "state"
      ],
      "metadata": {
        "id": "4Hds1v2YxIl_",
        "colab": {
          "base_uri": "https://localhost:8080/"
        },
        "outputId": "102390ed-0038-47c4-a808-998a69f01ac5"
      },
      "execution_count": null,
      "outputs": [
        {
          "output_type": "execute_result",
          "data": {
            "text/plain": [
              "{'heartrate': 72.08816239775976,\n",
              " 'sys_bp': 92.53674503679757,\n",
              " 'dia_bp': 63.43233295549411,\n",
              " 'spo2': 0.9881275775882387,\n",
              " 'calories_burnt': 0,\n",
              " 'duration_mins': 0}"
            ]
          },
          "metadata": {},
          "execution_count": 88
        }
      ]
    },
    {
      "cell_type": "code",
      "source": [
        "initial_sys = state['sys_bp']\n",
        "initial_spo2 = state['spo2']"
      ],
      "metadata": {
        "id": "mesSCFCjQpne"
      },
      "execution_count": null,
      "outputs": []
    },
    {
      "cell_type": "markdown",
      "source": [
        "Defining Normal treadmill walk"
      ],
      "metadata": {
        "id": "Nf9i3dlBJAa8"
      }
    },
    {
      "cell_type": "code",
      "source": [
        "def walk(state):\n",
        "  state['duration_mins'] = np.random.randint(0,30)\n",
        "  state['heartrate'] = np.random.uniform(walking_thr_min, walking_thr_max)\n",
        "  #state['heartrate'] += np.random.uniform(walking_thr_min - state['heartrate'], walking_thr_max - state['heartrate'])\n",
        "  state['sys_bp'] += np.random.uniform(5,10) * normal_walk_mets\n",
        "  state['dia_bp'] += np.random.uniform(exc_dia_min,exc_dia_max)\n",
        "  state['spo2'] += np.random.uniform(safe_spo2_min, safe_spo2_max)\n",
        "  #state['vo2'] = 56.363 + (1.921 * pal_light_exc) - (0.381 * age) - (0.754 * bmi) + (10.987 * gender)\n",
        "  #state['calories_burnt'] += np.random.uniform(cal_walk_min,cal_walk_max)\n",
        "  state['calories_burnt'] += state['duration_mins'] * (normal_walk_mets * 3.5 * weight)/200\n",
        "  #state['calories_burnt'] += (63 * dist_miles) - 72\n",
        "  return state"
      ],
      "metadata": {
        "id": "4GOLVaMJZNeJ"
      },
      "execution_count": null,
      "outputs": []
    },
    {
      "cell_type": "code",
      "source": [
        "state = walk(state)\n",
        "state"
      ],
      "metadata": {
        "id": "e1C6fOV8ZXdZ",
        "colab": {
          "base_uri": "https://localhost:8080/"
        },
        "outputId": "6d7ef487-b9b3-499d-9ed5-4430deedc7de"
      },
      "execution_count": null,
      "outputs": [
        {
          "output_type": "execute_result",
          "data": {
            "text/plain": [
              "{'heartrate': 105.40659990151269,\n",
              " 'sys_bp': 115.42840098584296,\n",
              " 'dia_bp': 66.11613457377614,\n",
              " 'spo2': 1.92188066774565,\n",
              " 'calories_burnt': 4.926108374384237e-05,\n",
              " 'duration_mins': 9}"
            ]
          },
          "metadata": {},
          "execution_count": 91
        }
      ]
    },
    {
      "cell_type": "markdown",
      "source": [
        "Defining Aerobic treadmill walk"
      ],
      "metadata": {
        "id": "g5jJDhZOJH45"
      }
    },
    {
      "cell_type": "code",
      "source": [
        "def aerobic_walk(state):\n",
        "  state['duration_mins'] = np.random.randint(0,30)\n",
        "  state['heartrate'] = np.random.uniform(walking_aerobic_min, walking_aerobic_max)\n",
        "  #state['sys_bp'] -= np.random.uniform(aerobic_walking_min, aerobic_walking_max)\n",
        "  state['sys_bp'] += np.random.uniform(5,10) * aerobic_walk_mets\n",
        "  state['dia_bp'] += np.random.uniform(exc_dia_min,exc_dia_max)\n",
        "  state['spo2'] += np.random.uniform(safe_spo2_min, safe_spo2_max)\n",
        "  #state['vo2'] = 56.363 + (1.921 * pal_moderate_exc) - (0.381 * age) - (0.754 * bmi) + (10.987 * gender)\n",
        "  #state['calories_burnt'] = np.random.uniform(,)\n",
        "  state['calories_burnt'] += state['duration_mins'] * (aerobic_walk_mets * 3.5 * weight)/200\n",
        "  return state"
      ],
      "metadata": {
        "id": "LJmL1pTLu0Ui"
      },
      "execution_count": null,
      "outputs": []
    },
    {
      "cell_type": "code",
      "source": [
        "state = aerobic_walk(state)\n",
        "state"
      ],
      "metadata": {
        "id": "LD3Y7SPiu4rr",
        "colab": {
          "base_uri": "https://localhost:8080/"
        },
        "outputId": "26850518-44c2-472c-98f8-5e0457498f43"
      },
      "execution_count": null,
      "outputs": [
        {
          "output_type": "execute_result",
          "data": {
            "text/plain": [
              "{'heartrate': 150.78930983886895,\n",
              " 'sys_bp': 144.27059747825956,\n",
              " 'dia_bp': 64.86645139326349,\n",
              " 'spo2': 2.8985851176240782,\n",
              " 'calories_burnt': 9.669768290457946e-05,\n",
              " 'duration_mins': 13}"
            ]
          },
          "metadata": {},
          "execution_count": 93
        }
      ]
    },
    {
      "cell_type": "markdown",
      "source": [
        "Defining HIIT treadmill walk"
      ],
      "metadata": {
        "id": "1mscpPahJLjT"
      }
    },
    {
      "cell_type": "code",
      "source": [
        "def hiit_walk(state):\n",
        "  state['duration_mins'] = np.random.randint(0,30)\n",
        "  state['heartrate'] = np.random.uniform(walking_hiit_min, walking_hiit_max)\n",
        "  state['sys_bp'] += np.random.uniform(5,10) * hiit_walk_mets\n",
        "  state['dia_bp'] += np.random.uniform(exc_dia_min,exc_dia_max)\n",
        "  state['spo2'] += np.random.uniform(hiit_spo2_min, hiit_spo2_max)\n",
        "  #state['vo2'] -= np.random.uniform(hiit_vo2_min,hiit_vo2_max)\n",
        "  #state['vo2'] = 56.363 + (1.921 * pal_heavy_exc) - (0.381 * age) - (0.754 * bmi) + (10.987 * gender)\n",
        "  #state['calories_burnt'] = np.random.uniform(,)\n",
        "  state['calories_burnt'] += state['duration_mins'] * (hiit_walk_mets * 3.5 * weight)/200\n",
        "  return state"
      ],
      "metadata": {
        "id": "U6o3P8tMvFa4"
      },
      "execution_count": null,
      "outputs": []
    },
    {
      "cell_type": "code",
      "source": [
        "state = hiit_walk(state)\n",
        "state"
      ],
      "metadata": {
        "id": "YwBSBW8xvNUy",
        "colab": {
          "base_uri": "https://localhost:8080/"
        },
        "outputId": "d9408de2-9895-4120-848f-e86ba76953c3"
      },
      "execution_count": null,
      "outputs": [
        {
          "output_type": "execute_result",
          "data": {
            "text/plain": [
              "{'heartrate': 174.60294685500884,\n",
              " 'sys_bp': 174.96454748867265,\n",
              " 'dia_bp': 67.7207499995793,\n",
              " 'spo2': 3.803640392500599,\n",
              " 'calories_burnt': 0.00011311804415252691,\n",
              " 'duration_mins': 6}"
            ]
          },
          "metadata": {},
          "execution_count": 95
        }
      ]
    },
    {
      "cell_type": "markdown",
      "source": [
        "Defining treadmill run"
      ],
      "metadata": {
        "id": "a0myCFYVJPin"
      }
    },
    {
      "cell_type": "code",
      "source": [
        "def run(state):\n",
        "  state['duration_mins'] = np.random.randint(0,30)\n",
        "  state['heartrate'] = np.random.uniform(running_hiit_min, running_hiit_max)\n",
        "  state['sys_bp'] = np.random.uniform(run_sys_normal_min, run_sys_normal_max)\n",
        "  state['dia_bp'] += np.random.uniform(exc_dia_min,exc_dia_max)\n",
        "  state['spo2'] += np.random.uniform(running_spo2_min, running_spo2_min)\n",
        "  #state['vo2'] = 56.363 + (1.921 * pal_very_heavy_exc) - (0.381 * age) - (0.754 * bmi) + (10.987 * gender)\n",
        "  #state['calories_burnt'] = np.random.uniform(,)\n",
        "  state['calories_burnt'] += state['duration_mins'] * (run_mets * 3.5 * weight)/200\n",
        "  return state"
      ],
      "metadata": {
        "id": "DradNUqNZYmq"
      },
      "execution_count": null,
      "outputs": []
    },
    {
      "cell_type": "code",
      "source": [
        "state = run(state)\n",
        "state"
      ],
      "metadata": {
        "id": "u7SKvDgmZanR",
        "colab": {
          "base_uri": "https://localhost:8080/"
        },
        "outputId": "6d896ee8-f16d-4911-d526-380b91a32f7d"
      },
      "execution_count": null,
      "outputs": [
        {
          "output_type": "execute_result",
          "data": {
            "text/plain": [
              "{'heartrate': 133.22004768995694,\n",
              " 'sys_bp': 196.38365658561042,\n",
              " 'dia_bp': 65.09132022410088,\n",
              " 'spo2': 3.783640392500599,\n",
              " 'calories_burnt': 0.0001623791278963693,\n",
              " 'duration_mins': 21}"
            ]
          },
          "metadata": {},
          "execution_count": 97
        }
      ]
    },
    {
      "cell_type": "markdown",
      "source": [
        "Defining cycling"
      ],
      "metadata": {
        "id": "IpS5_DSoJT3i"
      }
    },
    {
      "cell_type": "code",
      "source": [
        "def cycle(state):\n",
        "  state['duration_mins'] = np.random.randint(0,30)\n",
        "  state['heartrate'] = np.random.uniform(cycling_min, cycling_max)\n",
        "  state['sys_bp'] = np.random.uniform(run_sys_normal_max, run_sys_normal_max)\n",
        "  state['dia_bp'] += np.random.uniform(exc_dia_min,exc_dia_max)\n",
        "  state['spo2'] += np.random.uniform(cycling_spo2_min, cycling_spo2_max)\n",
        "  #state['vo2'] = 56.363 + (1.921 * pal_very_heavy_exc) - (0.381 * age) - (0.754 * bmi) + (10.987 * gender)\n",
        "  #state['calories_burnt'] = np.random.uniform(,)\n",
        "  state['calories_burnt'] += state['duration_mins'] * (cycle_mets * 3.5 * weight)/200\n",
        "  #state['calories_burnt'] = (21.76734 * speed_mph) - 179.2953\n",
        "  return state"
      ],
      "metadata": {
        "id": "W20iFvaFZb2R"
      },
      "execution_count": null,
      "outputs": []
    },
    {
      "cell_type": "code",
      "source": [
        "state = cycle(state)\n",
        "state"
      ],
      "metadata": {
        "id": "ZcQs2zVWehZt",
        "colab": {
          "base_uri": "https://localhost:8080/"
        },
        "outputId": "8e398a97-b4bb-4f3a-d768-7ed6e2d3160a"
      },
      "execution_count": null,
      "outputs": [
        {
          "output_type": "execute_result",
          "data": {
            "text/plain": [
              "{'heartrate': 104.49497686925166,\n",
              " 'sys_bp': 200.0,\n",
              " 'dia_bp': 73.91258526376424,\n",
              " 'spo2': 4.654675579498429,\n",
              " 'calories_burnt': 0.0001685367633643496,\n",
              " 'duration_mins': 3}"
            ]
          },
          "metadata": {},
          "execution_count": 99
        }
      ]
    },
    {
      "cell_type": "code",
      "source": [
        "#heart rate\n",
        "heartrate_drop_min = 15\n",
        "heartrate_drop_max = 20\n",
        "heartrate_drop_risky_max = 12\n",
        "\n",
        "#blood pressure\n",
        "sysbp_risky = +5\n",
        "sysbp_risky_min = 190\n",
        "diabp_risky_min = 110\n",
        "sysbp_men_max = -64\n",
        "sysbp_men_min = -44\n",
        "\n",
        "#vo2\n",
        "\n",
        "#calories for 1 hour\n",
        "rest_aerobic_hiit_cal_min = 15\n",
        "rest_aerobic_hiit_cal_min = 20\n",
        "rest_run_cycle_cal_min = 23\n",
        "rest_run_cycle_cal_min = 33"
      ],
      "metadata": {
        "id": "LzpOuvWPNfHl"
      },
      "execution_count": null,
      "outputs": []
    },
    {
      "cell_type": "markdown",
      "source": [
        "Defining Weight Lifting"
      ],
      "metadata": {
        "id": "QEFOrl7WEW-l"
      }
    },
    {
      "cell_type": "markdown",
      "source": [
        "  men: [Minutes working out] × [Bodyweight in kg] × 0.0713\n",
        "Women: [Minutes working out] × [Bodyweight in kg] × 0.0637\n",
        "\n",
        "https://www.strengthlog.com/calories-burned-lifting-weights/\n",
        "\n",
        "By multiplying the body weight in kg by the MET (*) value and duration of activity, you can estimate the energy expenditure in Kcal specific to a persons body weight. In this example, weight lifting at a 6 MET value, burns 6 Kcal/kg x body weight/h.\n",
        "\n",
        "A 70 kg individual weight lifting for 30 minutes expends the following:\n",
        "\n",
        "(6 METs x 70 kg body weight) x (30 min/60 min) = 210.0 Kcal.\n",
        "SOME divide this by 200\n",
        "\n",
        "https://coolconversion.com/calories-burned/Calorie-Calculator-%7C-_weight-lifting_\n",
        "\n",
        "The formula to use is: METs x 3.5 x (your body weight in kilograms) / 200 = calories burned per minute."
      ],
      "metadata": {
        "id": "EkpaAqT-x0B2"
      }
    },
    {
      "cell_type": "code",
      "source": [
        "def weightlift(state):\n",
        "  state['duration_mins'] = np.random.randint(0,30)\n",
        "  state['heartrate'] = np.random.uniform(weightllifting_min, weightllifting_max)\n",
        "  state['sys_bp'] += np.random.uniform(wl_sys_min,wl_sys_max)\n",
        "  state['dia_bp'] += np.random.uniform(wl_dia_min,wl_dia_max)\n",
        "  state['spo2'] += np.random.uniform(hiit_spo2_min, hiit_spo2_max)\n",
        "  #state['vo2'] = 56.363 + (1.921 * pal_very_heavy_exc) - (0.381 * age) - (0.754 * bmi) + (10.987 * gender)\n",
        "  state['calories_burnt'] += state['duration_mins'] * (cycle_mets * 3.5 * weight)/200\n",
        "  return state"
      ],
      "metadata": {
        "id": "G3jhUPA3EZuS"
      },
      "execution_count": null,
      "outputs": []
    },
    {
      "cell_type": "code",
      "source": [
        "state = weightlift(state)\n",
        "state"
      ],
      "metadata": {
        "id": "sCh3Fjy-EaQu"
      },
      "execution_count": null,
      "outputs": []
    },
    {
      "cell_type": "markdown",
      "source": [
        "Defining rest/cool down"
      ],
      "metadata": {
        "id": "MQnkOIBQJgDR"
      }
    },
    {
      "cell_type": "code",
      "source": [
        "def rest(state): #per minute\n",
        "  state['duration_mins'] = np.random.randint(5,10)\n",
        "  state['heartrate'] -= np.random.uniform(heartrate_drop_min, heartrate_drop_max)\n",
        "  state['sys_bp'] = initial_sys - np.random.uniform(sysbp_men_min, sysbp_men_max)\n",
        "  state['spo2'] += np.random.uniform(normal_spo2_min, normal_spo2_max)\n",
        "  #state['vo2'] = ((220 - age)/state['heartrate']) * 15\n",
        "  state['calories_burnt'] += np.random.uniform(0.06,0.15) * state['calories_burnt']\n",
        "  return state"
      ],
      "metadata": {
        "id": "XEm71qtUbEsp"
      },
      "execution_count": null,
      "outputs": []
    },
    {
      "cell_type": "code",
      "source": [
        "state = rest(state)\n",
        "state"
      ],
      "metadata": {
        "colab": {
          "base_uri": "https://localhost:8080/"
        },
        "id": "I7Nc1RTG4zku",
        "outputId": "56401f00-ef80-4764-ad85-5e5a13566f40"
      },
      "execution_count": null,
      "outputs": [
        {
          "output_type": "execute_result",
          "data": {
            "text/plain": [
              "{'heartrate': 85.0207135097973,\n",
              " 'sys_bp': 149.76083754719298,\n",
              " 'dia_bp': 73.91258526376424,\n",
              " 'spo2': 5.63470090385151,\n",
              " 'calories_burnt': 0.00019062493740597275,\n",
              " 'duration_mins': 6}"
            ]
          },
          "metadata": {},
          "execution_count": 102
        }
      ]
    },
    {
      "cell_type": "markdown",
      "source": [
        "Action space"
      ],
      "metadata": {
        "id": "crjrHH7tJuA_"
      }
    },
    {
      "cell_type": "code",
      "source": [
        "actions = [rest, walk, aerobic_walk, hiit_walk, run, cycle, weightlift]"
      ],
      "metadata": {
        "id": "vqypJWDpa4q4"
      },
      "execution_count": null,
      "outputs": []
    },
    {
      "cell_type": "code",
      "source": [
        "smartcoach_action_space = gym.spaces.Discrete(len(actions))"
      ],
      "metadata": {
        "id": "AZIAsXpIbDkN"
      },
      "execution_count": null,
      "outputs": []
    },
    {
      "cell_type": "markdown",
      "source": [
        "Safe lower and upper bounds"
      ],
      "metadata": {
        "id": "QxSjd7sxJyA8"
      }
    },
    {
      "cell_type": "code",
      "source": [
        "observations = ['heartrate','sys_bp','dia_bp','spo2', 'calories_burnt']\n",
        "\n",
        "def make_smartcoach_obs_space():\n",
        "    lower_obs_bound = {\n",
        "        'heartrate' : safe_zone_min,\n",
        "        'sys_bp' : normal_sys_min,\n",
        "        'dia_bp': normal_dia_min,\n",
        "        'spo2' : safe_spo2_min,\n",
        "        #'vo2' : 9 * gd,\n",
        "        'calories_burnt' : 0,\n",
        "        'duration_mins' : 0\n",
        "    }\n",
        "    higher_obs_bound = {\n",
        "        'heartrate' : safe_zone_max,\n",
        "        'sys_bp' : normal_sys_max,\n",
        "        'dia_bp' : normal_dia_max,\n",
        "        'spo2' : safe_spo2_max,\n",
        "        #'vo2' : 10 * gd,\n",
        "        'calories_burnt' : 500,\n",
        "        'duration_mins' : 30\n",
        "    }\n",
        "\n",
        "    low = np.array([lower_obs_bound[o] for o in observations])\n",
        "    high = np.array([higher_obs_bound[o] for o in observations])\n",
        "    shape = (len(observations),)\n",
        "    return gym.spaces.Box(low,high,shape)"
      ],
      "metadata": {
        "id": "9-K64h5RZvxZ"
      },
      "execution_count": null,
      "outputs": []
    },
    {
      "cell_type": "markdown",
      "source": [
        "Defining how different conditions can affect the risk of heart attack "
      ],
      "metadata": {
        "id": "9KALUgIsM_TY"
      }
    },
    {
      "cell_type": "code",
      "source": [
        "#Risky conditions\n",
        "def risky_conditions(state):\n",
        "  heart_rate = (state['heartrate'] < safe_zone_min) or ((state['heartrate'] > safe_zone_max))\n",
        "  sys_bp = (state['sys_bp'] > hyper1_sys_min) or (state['sys_bp'] < normal_sys_min)\n",
        "  dia_bp = (state['dia_bp'] > hyper1_dia_min) or (state['dia_bp'] < normal_dia_min)\n",
        "  if(gender == 1):\n",
        "    spo2 = ((initial_spo2 - state['spo2']) > 0.04) or (state['spo2'] <= risky_spo2_max)\n",
        "    #vo2 = (state['vo2'] >= lactate_threshold_min_men) or (state['vo2'] <= lactate_threshold_max_men) or (state['vo2'] < vo2_men_poor_max) \n",
        "  else:\n",
        "    spo2 = ((initial_spo2 - state['spo2']) > 0.03) or (state['spo2'] <= risky_spo2_max)\n",
        "    #vo2 = (state['vo2'] >= lactate_threshold_min_women) or (state['vo2'] <= lactate_threshold_max_women) or (state['vo2'] < vo2_women_poor_max)\n",
        "  return (heart_rate or sys_bp or dia_bp or spo2)"
      ],
      "metadata": {
        "id": "CGoKBIrsMnkI"
      },
      "execution_count": null,
      "outputs": []
    },
    {
      "cell_type": "markdown",
      "source": [
        "Returning whether or not heart attack occured"
      ],
      "metadata": {
        "id": "m6X8LLOUM5xE"
      }
    },
    {
      "cell_type": "code",
      "source": [
        "heart_attack_occured = risky_conditions(state)"
      ],
      "metadata": {
        "id": "MEjtZpwqLzx5"
      },
      "execution_count": null,
      "outputs": []
    },
    {
      "cell_type": "code",
      "source": [
        "heart_attack_occured"
      ],
      "metadata": {
        "id": "pvOar75CL6vX",
        "colab": {
          "base_uri": "https://localhost:8080/"
        },
        "outputId": "e7d94507-a655-4968-a59f-88c9e8a9cfa0"
      },
      "execution_count": null,
      "outputs": [
        {
          "output_type": "execute_result",
          "data": {
            "text/plain": [
              "True"
            ]
          },
          "metadata": {},
          "execution_count": 108
        }
      ]
    },
    {
      "cell_type": "code",
      "source": [
        "class SmartCoach(gym.Env):\n",
        "    def __init__(self, heart_attack_proclivity=0.5, max_steps=1000):\n",
        "        self.actions = actions\n",
        "        self.observations = observations\n",
        "        self.action_space = smartcoach_action_space\n",
        "        self.observation_space = make_smartcoach_obs_space()\n",
        "        self.heart_attack_proclivity = heart_attack_proclivity\n",
        "        self.log = ''\n",
        "        self.max_steps = max_steps\n",
        "        \n",
        "    def observation(self):\n",
        "        return np.array([self.state[o] for o in self.observations])\n",
        "        \n",
        "    def reset(self):\n",
        "        self.state = {\n",
        "                'heartrate' : np.random.uniform(general_thr_min, general_thr_max),\n",
        "                'sys_bp': np.random.uniform(normal_sys_min, normal_sys_max),\n",
        "                'dia_bp': np.random.uniform(normal_dia_min, normal_dia_max),\n",
        "                'spo2' : np.random.uniform(normal_spo2_min, normal_spo2_max),\n",
        "                # 'vo2' : np.random.uniform(normal_vo2_min, normal_vo2_min),\n",
        "                'calories_burnt' : 0,\n",
        "                'duration_mins' : 0 \n",
        "        }\n",
        "        self.steps_left = self.max_steps\n",
        "        return self.observation()\n",
        "        \n",
        "    def step(self, action):\n",
        "        if (self.state['duration_mins'] == 0):\n",
        "            old_score = 0\n",
        "        else:\n",
        "            old_score = self.state['calories_burnt'] / self.state['duration_mins']\n",
        "        \n",
        "        # Do selected action\n",
        "        self.actions[action](self.state)\n",
        "        self.log += f'Chosen action: {self.actions[action].__name__}\\n'\n",
        "        if (self.state['duration_mins'] == 0):\n",
        "            new_score = old_score\n",
        "        else: \n",
        "          new_score = self.state['calories_burnt'] / self.state['duration_mins']\n",
        "        reward = new_score - old_score\n",
        "        \n",
        "        #if heart_attack_occured(self.state, self.heart_attack_proclivity):\n",
        "        if heart_attack_occured:\n",
        "          self.log += f'HEART ATTACK\\n'\n",
        "          # We would like to avoid this\n",
        "          reward -= 100\n",
        "            \n",
        "        self.log += str(self.state) + '\\n'\n",
        "        \n",
        "        self.steps_left -= 1\n",
        "        done = (self.steps_left <= 0)\n",
        "        \n",
        "        return self.observation(), reward, done, {}\n",
        "    \n",
        "    def close(self):\n",
        "        pass\n",
        "        \n",
        "    def render(self, mode=None):\n",
        "        print(self.log)\n",
        "        self.log = ''"
      ],
      "metadata": {
        "id": "yKYb0vMT57IF"
      },
      "execution_count": null,
      "outputs": []
    },
    {
      "cell_type": "code",
      "source": [
        "smartcoach = SmartCoach()"
      ],
      "metadata": {
        "id": "1LOV00rUZzjh"
      },
      "execution_count": null,
      "outputs": []
    },
    {
      "cell_type": "code",
      "source": [
        "smartcoach"
      ],
      "metadata": {
        "colab": {
          "base_uri": "https://localhost:8080/"
        },
        "id": "mMvdJLo1i80T",
        "outputId": "525edde3-b9b1-4315-c097-67751cdf274f"
      },
      "execution_count": null,
      "outputs": [
        {
          "output_type": "execute_result",
          "data": {
            "text/plain": [
              "<__main__.SmartCoach at 0x7f39a57e2760>"
            ]
          },
          "metadata": {},
          "execution_count": 122
        }
      ]
    },
    {
      "cell_type": "markdown",
      "source": [
        "Deep Q Network"
      ],
      "metadata": {
        "id": "R8quLCkzY1ID"
      }
    },
    {
      "cell_type": "code",
      "source": [
        "from stable_baselines3 import DQN\n",
        "\n",
        "model = DQN(\"MlpPolicy\", smartcoach, verbose=1, policy_kwargs={'net_arch': [16,16]})"
      ],
      "metadata": {
        "id": "_0iHnHbfZ7At",
        "colab": {
          "base_uri": "https://localhost:8080/"
        },
        "outputId": "cdfde5f3-ad88-4ecd-af6b-87490c63ad10"
      },
      "execution_count": null,
      "outputs": [
        {
          "output_type": "stream",
          "name": "stdout",
          "text": [
            "Using cpu device\n",
            "Wrapping the env with a `Monitor` wrapper\n",
            "Wrapping the env in a DummyVecEnv.\n"
          ]
        }
      ]
    },
    {
      "cell_type": "code",
      "source": [
        "'''model.learn(total_timesteps=500000, log_interval=10)'''"
      ],
      "metadata": {
        "id": "8ax-2NEZZ-Jo"
      },
      "execution_count": null,
      "outputs": []
    },
    {
      "cell_type": "code",
      "source": [
        "model.learn(total_timesteps=100000, log_interval=10)"
      ],
      "metadata": {
        "id": "TjhAy7HXkLcr"
      },
      "execution_count": null,
      "outputs": []
    },
    {
      "cell_type": "code",
      "source": [
        "from stable_baselines3.common.evaluation import evaluate_policy\n",
        "mean_reward, std_reward = evaluate_policy(model, smartcoach, n_eval_episodes=5)\n",
        "print(f'Reward per episode {mean_reward} ± {std_reward}')"
      ],
      "metadata": {
        "id": "XhfyguE_aGF7"
      },
      "execution_count": null,
      "outputs": []
    },
    {
      "cell_type": "code",
      "source": [
        "obs = smartcoach.reset()\n",
        "total_reward = 0\n",
        "for step in range(10):\n",
        "    action, _states = model.predict(obs, deterministic=True)\n",
        "    obs, reward, done, info = smartcoach.step(action)\n",
        "    smartcoach.render()"
      ],
      "metadata": {
        "id": "Ey5GshlGaIGD"
      },
      "execution_count": null,
      "outputs": []
    },
    {
      "cell_type": "code",
      "source": [
        "smartcoach.observation()"
      ],
      "metadata": {
        "id": "sobhHysw0Nfs"
      },
      "execution_count": null,
      "outputs": []
    },
    {
      "cell_type": "code",
      "source": [
        "reward"
      ],
      "metadata": {
        "id": "-PFsSbKj0c9U"
      },
      "execution_count": null,
      "outputs": []
    },
    {
      "cell_type": "code",
      "source": [
        "action"
      ],
      "metadata": {
        "id": "BdXtWNJL0ShC"
      },
      "execution_count": null,
      "outputs": []
    },
    {
      "cell_type": "markdown",
      "source": [
        "A2C Model"
      ],
      "metadata": {
        "id": "5W9WtiXxSNgr"
      }
    },
    {
      "cell_type": "code",
      "source": [
        "from stable_baselines3 import A2C"
      ],
      "metadata": {
        "id": "KLs0ZU_3SZdm"
      },
      "execution_count": null,
      "outputs": []
    },
    {
      "cell_type": "code",
      "source": [
        "model = A2C(\"MlpPolicy\", smartcoach, verbose = 1)"
      ],
      "metadata": {
        "id": "K4YEIVC2SP9e"
      },
      "execution_count": null,
      "outputs": []
    },
    {
      "cell_type": "code",
      "source": [
        "#saving and loading models\n",
        "models_dir = \"models/A2C\"\n",
        "logdir = \"logs\"\n",
        "\n",
        "if not os.path.exists(models_dir):\n",
        "  os.makedirs(models_dir)\n",
        "\n",
        "if not os.path.exists(logdir):\n",
        "  os.makedirs(logdir)"
      ],
      "metadata": {
        "id": "KZmKlq1DWtUY"
      },
      "execution_count": null,
      "outputs": []
    },
    {
      "cell_type": "code",
      "source": [
        "model = A2C(\"MlpPolicy\", smartcoach, verbose = 1, tensorboard_log = logdir)"
      ],
      "metadata": {
        "id": "PcxAuf4oYkog"
      },
      "execution_count": null,
      "outputs": []
    },
    {
      "cell_type": "code",
      "source": [
        "TIMESTEPS = 10000"
      ],
      "metadata": {
        "id": "JqoOljhFY40Y"
      },
      "execution_count": null,
      "outputs": []
    },
    {
      "cell_type": "code",
      "source": [
        "#for i in range(30):\n",
        "  model.learn(total_timesteps = TIMESTEPS, log_interval=10)"
      ],
      "metadata": {
        "id": "Mt1KmBr4-kZ5"
      },
      "execution_count": null,
      "outputs": []
    },
    {
      "cell_type": "code",
      "source": [
        "from stable_baselines3.common.evaluation import evaluate_policy\n",
        "mean_reward, std_reward = evaluate_policy(model, smartcoach, n_eval_episodes=5)\n",
        "print(f'Reward per episode {mean_reward} ± {std_reward}')"
      ],
      "metadata": {
        "id": "dj96IBPG_DaJ"
      },
      "execution_count": null,
      "outputs": []
    },
    {
      "cell_type": "code",
      "source": [
        "'''for i in range(30):\n",
        "  model.learn(total_timesteps = TIMESTEPS, reset_num_timesteps = False, tb_log_name = \"A2C\")\n",
        "  model.save(f\"{models_dir}/{TIMESTEPS * i}\")\n",
        "  '''"
      ],
      "metadata": {
        "id": "tko6zMC8Y8sP"
      },
      "execution_count": null,
      "outputs": []
    },
    {
      "cell_type": "code",
      "source": [
        "#tensorboard--logdir = logs"
      ],
      "metadata": {
        "id": "zPU45BJkbLxa"
      },
      "execution_count": null,
      "outputs": []
    },
    {
      "cell_type": "code",
      "source": [
        "episodes = 10\n",
        "\n",
        "for ep in range(episodes):\n",
        "  obs = smartcoach.reset()\n",
        "  done = False\n",
        "  while not done:\n",
        "    smartcoach.render()\n",
        "    #obs, reward, done, info = env.step(env.action_space.sample())\n",
        "    #obs, reward, done, info = smartcoach.step(action)\n",
        "\n",
        "  smartcoach.close()"
      ],
      "metadata": {
        "id": "3U6lJJ5JSkWB"
      },
      "execution_count": null,
      "outputs": []
    },
    {
      "cell_type": "code",
      "source": [
        "model.learn(total_timesteps = TIMESTEPS)"
      ],
      "metadata": {
        "id": "C-46rL0gT4_k"
      },
      "execution_count": null,
      "outputs": []
    },
    {
      "cell_type": "markdown",
      "source": [
        "PPO model"
      ],
      "metadata": {
        "id": "1ncz5GrNV0xH"
      }
    },
    {
      "cell_type": "code",
      "source": [
        "from stable_baselines3 import PPO"
      ],
      "metadata": {
        "id": "76BRBAGo_Nwt"
      },
      "execution_count": null,
      "outputs": []
    },
    {
      "cell_type": "code",
      "source": [
        "model = PPO(\"MlpPolicy\", smartcoach, verbose = 1)"
      ],
      "metadata": {
        "id": "SeD8Gj5dOu36",
        "colab": {
          "base_uri": "https://localhost:8080/"
        },
        "outputId": "5ec8f969-8e23-4066-c9ad-657fea3f4bbd"
      },
      "execution_count": null,
      "outputs": [
        {
          "output_type": "stream",
          "name": "stdout",
          "text": [
            "Using cpu device\n",
            "Wrapping the env with a `Monitor` wrapper\n",
            "Wrapping the env in a DummyVecEnv.\n"
          ]
        }
      ]
    },
    {
      "cell_type": "code",
      "source": [
        "#saving and loading models\n",
        "models_dir = \"models/PPO\"\n",
        "logdir = \"logs\"\n",
        "\n",
        "if not os.path.exists(models_dir):\n",
        "  os.makedirs(models_dir)\n",
        "\n",
        "if not os.path.exists(logdir):\n",
        "  os.makedirs(logdir)"
      ],
      "metadata": {
        "id": "QUtb4414OzBq"
      },
      "execution_count": null,
      "outputs": []
    },
    {
      "cell_type": "code",
      "source": [
        "model = PPO(\"MlpPolicy\", smartcoach, verbose = 1, tensorboard_log = logdir)"
      ],
      "metadata": {
        "id": "RSMoO6AdKHIr"
      },
      "execution_count": null,
      "outputs": []
    },
    {
      "cell_type": "code",
      "source": [
        "TIMESTEPS = 10000"
      ],
      "metadata": {
        "id": "_fI8NLXfO92Z"
      },
      "execution_count": null,
      "outputs": []
    },
    {
      "cell_type": "code",
      "source": [
        "for i in range(30):\n",
        "  model.learn(total_timesteps = 10000, log_interval=10)"
      ],
      "metadata": {
        "id": "xNBxi-ujO-4K"
      },
      "execution_count": null,
      "outputs": []
    },
    {
      "cell_type": "code",
      "source": [
        "from stable_baselines3.common.evaluation import evaluate_policy\n",
        "mean_reward, std_reward = evaluate_policy(model, smartcoach, n_eval_episodes=5)\n",
        "print(f'Reward per episode {mean_reward} ± {std_reward}')"
      ],
      "metadata": {
        "id": "vNoTWtKhPBnw",
        "colab": {
          "base_uri": "https://localhost:8080/"
        },
        "outputId": "7263351d-0231-46ef-fb0a-3dccc0044738"
      },
      "execution_count": null,
      "outputs": [
        {
          "output_type": "stream",
          "name": "stderr",
          "text": [
            "/usr/local/lib/python3.9/dist-packages/stable_baselines3/common/evaluation.py:67: UserWarning: Evaluation environment is not wrapped with a ``Monitor`` wrapper. This may result in reporting modified episode lengths and rewards, if other wrappers happen to modify these. Consider wrapping environment first with ``Monitor`` wrapper.\n",
            "  warnings.warn(\n"
          ]
        },
        {
          "output_type": "stream",
          "name": "stdout",
          "text": [
            "Reward per episode -99999.85248565674 ± 0.03295745810754178\n"
          ]
        }
      ]
    },
    {
      "cell_type": "code",
      "source": [
        "'''for i in range(30):\n",
        "  model.learn(total_timesteps = TIMESTEPS, reset_num_timesteps = False, tb_log_name = \"A2C\")\n",
        "  model.save(f\"{models_dir}/{TIMESTEPS * i}\")"
      ],
      "metadata": {
        "id": "gh33TqnoPF26"
      },
      "execution_count": null,
      "outputs": []
    },
    {
      "cell_type": "code",
      "source": [
        "#tensorboard--logdir = logs"
      ],
      "metadata": {
        "id": "vSTQAvGsPIrA"
      },
      "execution_count": null,
      "outputs": []
    },
    {
      "cell_type": "code",
      "source": [
        "episodes = 10\n",
        "\n",
        "for ep in range(episodes):\n",
        "  obs = smartcoach.reset()\n",
        "  done = False\n",
        "  while not done:\n",
        "    smartcoach.render()\n",
        "    #obs, reward, done, info = env.step(env.action_space.sample())\n",
        "    #obs, reward, done, info = smartcoach.step(action)\n",
        "\n",
        "  smartcoach.close()"
      ],
      "metadata": {
        "id": "xnI1Z7SkPSt8"
      },
      "execution_count": null,
      "outputs": []
    },
    {
      "cell_type": "markdown",
      "source": [
        "*******\n",
        "Customised Deep Q network"
      ],
      "metadata": {
        "id": "AOLp9VxbKxyg"
      }
    },
    {
      "cell_type": "code",
      "source": [
        "from keras import Sequential, layers\n",
        "from keras.optimizers import Adam\n",
        "from keras.layers import Dense\n",
        "from collections import deque\n",
        "import numpy as np"
      ],
      "metadata": {
        "id": "C-EEsumXJ1Gv"
      },
      "execution_count": null,
      "outputs": []
    },
    {
      "cell_type": "code",
      "source": [
        "REPLAY_MEMORY_SIZE = 50000 # How many last steps to keep for model training\n",
        "MIN_REPLAY_MEMORY_SIZE = 1000 # Minimum number of steps in a memory to start training\n",
        "MINIBATCH_SIZE = 64 # How many steps (samples) to use for training\n",
        "DISCOUNT = 0.99\n",
        "UPDATE_TARGET_EVERY = 5\n",
        "MIN_REWARD = -200  # For model save\n",
        "MEMORY_FRACTION = 0.20\n",
        "\n",
        "# Environment settings\n",
        "EPISODES = 20_000\n",
        "\n",
        "# Exploration settings\n",
        "epsilon = 1  # not a constant, going to be decayed\n",
        "EPSILON_DECAY = 0.99975\n",
        "MIN_EPSILON = 0.001\n",
        "\n",
        "#  Stats settings\n",
        "AGGREGATE_STATS_EVERY = 50  # episodes\n",
        "SHOW_PREVIEW = False"
      ],
      "metadata": {
        "id": "f9Na5KyXuqDU"
      },
      "execution_count": null,
      "outputs": []
    },
    {
      "cell_type": "code",
      "source": [
        "class sc:\n",
        "  #CHANGE TO SELF FORM \n",
        "  def __init__(self):\n",
        "    self.state.heartrate = np.random.uniform(general_thr_min, general_thr_max)\n",
        "    self.state.sys_bp = np.random.uniform(normal_sys_min, normal_sys_max)\n",
        "    self.state.dia_bp = np.random.uniform(normal_dia_min, normal_dia_max)\n",
        "    self.state.spo2 = np.random.uniform(normal_spo2_min, normal_spo2_max)\n",
        "    #self.state.vo2 = np.random.uniform(9 * gd, 10 * gd)\n",
        "    self.state.calories_burnt = 0\n",
        "    self.state.duration_mins = 0\n",
        "\n",
        "    self.state.initial_sys = self.state.sys_bp\n",
        "    self.state.initial_spo2 = self.state.spo2\n",
        "\n",
        "    state = {\n",
        "                'heartrate' : np.random.uniform(general_thr_min, general_thr_max),\n",
        "                'sys_bp': np.random.uniform(normal_sys_min, normal_sys_max),\n",
        "                'dia_bp': np.random.uniform(normal_dia_min, normal_dia_max),\n",
        "                'spo2' : np.random.uniform(normal_spo2_min, normal_spo2_max),\n",
        "                # 'vo2' : np.random.uniform(9 * gd, 10 * gd),\n",
        "                'calories_burnt' : 0,\n",
        "                'duration_mins' : 0 \n",
        "        }\n",
        "\n",
        "\n",
        "  #initial_sys = state['sys_bp']\n",
        "  #initial_spo2 = state['spo2']\n",
        "\n",
        "  #NOTE: CHANGE TO SELF FORM\n",
        "\n",
        "  #def walk(self):\n",
        "  # self.duration_mins = np.random.randint(0,30)\n",
        "\n",
        "\n",
        "  def walk(state):\n",
        "    state['duration_mins'] = np.random.randint(0,30)\n",
        "    state['heartrate'] = np.random.uniform(walking_thr_min, walking_thr_max)\n",
        "    #state['heartrate'] += np.random.uniform(walking_thr_min - state['heartrate'], walking_thr_max - state['heartrate'])\n",
        "    state['sys_bp'] += np.random.uniform(5,10) * normal_walk_mets\n",
        "    state['dia_bp'] += np.random.uniform(exc_dia_min,exc_dia_max)\n",
        "    state['spo2'] += np.random.uniform(safe_spo2_min, safe_spo2_max)\n",
        "    #state['vo2'] = 56.363 + (1.921 * pal_light_exc) - (0.381 * age) - (0.754 * bmi) + (10.987 * gender)\n",
        "    #state['calories_burnt'] += np.random.uniform(cal_walk_min,cal_walk_max)\n",
        "    state['calories_burnt'] += state['duration_mins']/(normal_walk_mets * 3.5 * weight)/200\n",
        "    #state['calories_burnt'] += (63 * dist_miles) - 72\n",
        "    return state\n",
        "\n",
        "  def aerobic_walk(state):\n",
        "    state['duration_mins'] = np.random.randint(0,30)\n",
        "    state['heartrate'] = np.random.uniform(walking_aerobic_min, walking_aerobic_max)\n",
        "    #state['sys_bp'] -= np.random.uniform(aerobic_walking_min, aerobic_walking_max)\n",
        "    state['sys_bp'] += np.random.uniform(5,10) * aerobic_walk_mets\n",
        "    state['dia_bp'] += np.random.uniform(exc_dia_min,exc_dia_max)\n",
        "    state['spo2'] += np.random.uniform(safe_spo2_min, safe_spo2_max)\n",
        "    #state['vo2'] = 56.363 + (1.921 * pal_moderate_exc) - (0.381 * age) - (0.754 * bmi) + (10.987 * gender)\n",
        "    #state['calories_burnt'] = np.random.uniform(,)\n",
        "    state['calories_burnt'] += state['duration_mins']/(aerobic_walk_mets * 3.5 * weight)/200\n",
        "    return state\n",
        "\n",
        "  def hiit_walk(state):\n",
        "    state['duration_mins'] = np.random.randint(0,30)\n",
        "    state['heartrate'] = np.random.uniform(walking_hiit_min, walking_hiit_max)\n",
        "    state['sys_bp'] += np.random.uniform(5,10) * hiit_walk_mets\n",
        "    state['dia_bp'] += np.random.uniform(exc_dia_min,exc_dia_max)\n",
        "    state['spo2'] += np.random.uniform(hiit_spo2_min, hiit_spo2_max)\n",
        "    #state['vo2'] -= np.random.uniform(hiit_vo2_min,hiit_vo2_max)\n",
        "    #state['vo2'] = 56.363 + (1.921 * pal_heavy_exc) - (0.381 * age) - (0.754 * bmi) + (10.987 * gender)\n",
        "    #state['calories_burnt'] = np.random.uniform(,)\n",
        "    state['calories_burnt'] += state['duration_mins']/(hiit_walk_mets * 3.5 * weight)/200\n",
        "    return state\n",
        "\n",
        "  def run(state):\n",
        "    state['duration_mins'] = np.random.randint(0,30)\n",
        "    state['heartrate'] = np.random.uniform(running_hiit_min, running_hiit_max)\n",
        "    state['sys_bp'] = np.random.uniform(run_sys_normal_min, run_sys_normal_max)\n",
        "    state['dia_bp'] += np.random.uniform(exc_dia_min,exc_dia_max)\n",
        "    state['spo2'] += np.random.uniform(running_spo2_min, running_spo2_min)\n",
        "    #state['vo2'] = 56.363 + (1.921 * pal_very_heavy_exc) - (0.381 * age) - (0.754 * bmi) + (10.987 * gender)\n",
        "    #state['calories_burnt'] = np.random.uniform(,)\n",
        "    state['calories_burnt'] += state['duration_mins']/(run_mets * 3.5 * weight)/200\n",
        "    return state\n",
        "\n",
        "  def cycle(state):\n",
        "    state['duration_mins'] = np.random.randint(0,30)\n",
        "    state['heartrate'] = np.random.uniform(cycling_min, cycling_max)\n",
        "    state['sys_bp'] = np.random.uniform(run_sys_normal_max, run_sys_normal_max)\n",
        "    state['dia_bp'] += np.random.uniform(exc_dia_min,exc_dia_max)\n",
        "    state['spo2'] += np.random.uniform(cycling_spo2_min, cycling_spo2_max)\n",
        "    #state['vo2'] = 56.363 + (1.921 * pal_very_heavy_exc) - (0.381 * age) - (0.754 * bmi) + (10.987 * gender)\n",
        "    #state['calories_burnt'] = np.random.uniform(,)\n",
        "    state['calories_burnt'] += state['duration_mins']/(cycle_mets * 3.5 * weight)/200\n",
        "    #state['calories_burnt'] = (21.76734 * speed_mph) - 179.2953\n",
        "    return state\n",
        "\n",
        "  def rest(state): #per minute\n",
        "    state['duration_mins'] = np.random.randint(5,10)\n",
        "    state['heartrate'] -= np.random.uniform(heartrate_drop_min, heartrate_drop_max)\n",
        "    state['sys_bp'] = initial_sys - np.random.uniform(sysbp_men_min, sysbp_men_max)\n",
        "    state['spo2'] += np.random.uniform(normal_spo2_min, normal_spo2_max)\n",
        "    #state['vo2'] = ((220 - age)/state['heartrate']) * 15\n",
        "    state['calories_burnt'] += np.random.uniform(0.06,0.15) * state['calories_burnt']\n",
        "    return state\n",
        "\n",
        "  #Risky conditions\n",
        "  def risky_conditions(state):\n",
        "    heart_rate = (state['heart_rate'] < safe_zone_min) or ((state['heart_rate'] > safe_zone_max))\n",
        "    sys_bp = (state['sys_bp'] > hyper1_sys_min) or (state['sys_bp'] < normal_sys_min)\n",
        "    dia_bp = (state['dia_bp'] > hyper1_dia_min) or (state['dia_bp'] < normal_dia_min)\n",
        "    if(gender == 1):\n",
        "      spo2 = ((initial_spo2 - state['spo2']) > 0.04) or (state['spo2'] <= risky_spo2_max)\n",
        "      #vo2 = (state['vo2'] >= lactate_threshold_min_men) or (state['vo2'] <= lactate_threshold_max_men) or (state['vo2'] < vo2_men_poor_max) \n",
        "    else:\n",
        "      spo2 = ((initial_spo2 - state['spo2']) > 0.03) or (state['spo2'] <= risky_spo2_max)\n",
        "      #vo2 = (state['vo2'] >= lactate_threshold_min_women) or (state['vo2'] <= lactate_threshold_max_women) or (state['vo2'] < vo2_women_poor_max)\n",
        "    return (heart_rate or sys_bp or dia_bp or spo2)\n",
        "\n",
        "  #Evaluating heart attack risk\n",
        "  def heart_attack_risk(state, heart_attack_proclivity=0.5):\n",
        "    # return heart_attack_proclivity * sigmoid(thalachh)\n",
        "    return 0.5\n",
        "\n",
        "  def heart_attack_occured(state, heart_attack_proclivity=0.5):\n",
        "    return np.random.uniform(0, 1) < sc.heart_attack_risk(state, heart_attack_proclivity)\n",
        "\n",
        "  def action_to_take(self, action):\n",
        "    if (action == 0):\n",
        "      state = sc.rest(state)\n",
        "      #self.rest()\n",
        "    elif (action == 1):\n",
        "      state = sc.walk(state)\n",
        "      #self.walk()\n",
        "    elif (action == 2):\n",
        "      state = sc.aerobic_walk(state)\n",
        "      #self.aerobic_walk()\n",
        "    elif (action == 3):\n",
        "      state = sc.hiit_walk(state)\n",
        "      #self.hiit_walk()\n",
        "    elif (action == 3):\n",
        "      state = sc.run(state)\n",
        "      #self.run()\n",
        "    elif (action == 4):\n",
        "      state = sc.cycle(state)\n",
        "      #self.cycle()\n",
        "    return state"
      ],
      "metadata": {
        "id": "ozIc_hgYuu3R"
      },
      "execution_count": null,
      "outputs": []
    },
    {
      "cell_type": "code",
      "source": [
        "actions = [sc.rest, sc.walk, sc.aerobic_walk, sc.hiit_walk, sc.run, sc.cycle, sc.weightlift]"
      ],
      "metadata": {
        "id": "OG2LCylvuyru"
      },
      "execution_count": null,
      "outputs": []
    },
    {
      "cell_type": "code",
      "source": [
        "smartcoach_action_space = gym.spaces.Discrete(len(actions))"
      ],
      "metadata": {
        "id": "TIFE_1yvuzdY"
      },
      "execution_count": null,
      "outputs": []
    },
    {
      "cell_type": "code",
      "source": [
        "class SmartCoach:\n",
        "  \n",
        "  def __init__(self, heart_attack_proclivity=0.5, max_steps=1000):\n",
        "    self.actions = actions\n",
        "    self.observations = observations\n",
        "    self.action_space = smartcoach_action_space\n",
        "    self.observation_space = make_smartcoach_obs_space()\n",
        "    self.heart_attack_proclivity = heart_attack_proclivity\n",
        "    self.log = ''\n",
        "    self.max_steps = max_steps\n",
        "        \n",
        "  def observation(self):\n",
        "    return np.array([self.state[o] for o in self.observations])\n",
        "        \n",
        "  def reset(self):\n",
        "    self.state = {\n",
        "                'heartrate' : np.random.uniform(general_thr_min, general_thr_max),\n",
        "                'sys_bp': np.random.uniform(normal_sys_min, normal_sys_max),\n",
        "                'dia_bp': np.random.uniform(normal_dia_min, normal_dia_max),\n",
        "                'spo2' : np.random.uniform(normal_spo2_min, normal_spo2_max),\n",
        "                # 'vo2' : np.random.uniform(normal_vo2_min, normal_vo2_min),\n",
        "                'calories_burnt' : 0,\n",
        "                'duration_mins' : 0 \n",
        "        }\n",
        "    self.steps_left = self.max_steps\n",
        "    return self.observation()\n",
        "        \n",
        "  def step(self, action):\n",
        "    if (self.state['duration_mins'] == 0):\n",
        "      old_score = 0\n",
        "      new_score = 0\n",
        "    else:\n",
        "      old_score = self.state['calories_burnt'] / self.state['duration_mins']\n",
        "        \n",
        "      # Do selected action\n",
        "      self.actions[action](self.state)\n",
        "      self.log += f'Chosen action: {self.actions[action].__name__}\\n'\n",
        "      if (self.state['duration_mins'] == 0):\n",
        "        new_score = old_score\n",
        "      else: \n",
        "        new_score = self.state['calories_burnt'] / self.state['duration_mins']\n",
        "    reward = new_score - old_score\n",
        "        \n",
        "    if sc.heart_attack_occured(self.state, self.heart_attack_proclivity):\n",
        "      self.log += f'HEART ATTACK\\n'\n",
        "      # We would like to avoid this\n",
        "      reward -= 100\n",
        "            \n",
        "    self.log += str(self.state) + '\\n'\n",
        "        \n",
        "    self.steps_left -= 1\n",
        "    done = (self.steps_left <= 0)\n",
        "        \n",
        "    return self.observation(), reward, done\n",
        "    \n",
        "  def close(self):\n",
        "    pass\n",
        "        \n",
        "  def render(self, mode=None):\n",
        "    print(self.log)\n",
        "    self.log = ''\n",
        "\n",
        "\n",
        "env = SmartCoach()"
      ],
      "metadata": {
        "id": "U7_ovPtsZC5E",
        "colab": {
          "base_uri": "https://localhost:8080/"
        },
        "outputId": "4482679f-8364-4b16-de96-007e1dd298da"
      },
      "execution_count": null,
      "outputs": [
        {
          "output_type": "stream",
          "name": "stderr",
          "text": [
            "/usr/local/lib/python3.9/dist-packages/gym/spaces/box.py:128: UserWarning: \u001b[33mWARN: Box bound precision lowered by casting to float32\u001b[0m\n",
            "  -self.np_random.exponential(size=upp_bounded[upp_bounded].shape)\n"
          ]
        }
      ]
    },
    {
      "cell_type": "code",
      "source": [
        "# For stats\n",
        "ep_rewards = [-200]\n",
        "\n",
        "# For more repetitive results\n",
        "random.seed(1)\n",
        "np.random.seed(1)\n",
        "#tf.set_random_seed(1)"
      ],
      "metadata": {
        "id": "piKNjygru1hT"
      },
      "execution_count": null,
      "outputs": []
    },
    {
      "cell_type": "code",
      "source": [
        "class DQNAgent:\n",
        "  def __init__(self):\n",
        "    #main model that gets trained every step\n",
        "    self.model = self.create_model()\n",
        "\n",
        "    #target model - .predict against every step\n",
        "    self.target_model = self.create_model()\n",
        "    self.target_model.set_weights(self.model.get_weights())\n",
        "\n",
        "    self.replay_memory = deque(maxlen = REPLAY_MEMORY_SIZE)\n",
        "\n",
        "    self.target_update_counter = 0\n",
        "\n",
        "  def create_model(self):\n",
        "    model = Sequential()\n",
        "    model.add(Dense(64, input_shape=(1,), activation='relu'))\n",
        "    model.add(Dense(64, activation='relu'))\n",
        "    model.add(Dense(10, activation='softmax'))\n",
        "    model.compile(loss='categorical_crossentropy', optimizer=Adam(learning_rate = 0.001))\n",
        "    return model\n",
        "\n",
        "  def update_replay_memory(self, transition):\n",
        "    self.replay_memory.append(transition)\n",
        "\n",
        "  def train(self, terminal_state, step):\n",
        "    if len(self.replay_memory) < MIN_REPLAY_MEMORY_SIZE:\n",
        "      return\n",
        "\n",
        "    minibatch = random.sample(self.replay_memory, MINIBATCH_SIZE)\n",
        "    \n",
        "    current_states = np.array([transition[0] for transition in minibatch])\n",
        "    current_qs_list = self.model.predict(current_states)\n",
        "\n",
        "    new_current_states = np.array([transition[3] for transition in minibatch])\n",
        "    future_qs_list = self.target_model.predict(new_current_states)\n",
        "\n",
        "    X = []\n",
        "    y = []\n",
        "\n",
        "    for index, (current_state, action, reward, new_current_state, done) in enumerate(minibatch):\n",
        "      if not done:\n",
        "        max_future_q = np.max(future_qs_list[index])\n",
        "        new_q = reward + DISCOUNT * max_future_q\n",
        "      else:\n",
        "        new_q = reward\n",
        "\n",
        "      current_qs = current_qs_list[index]\n",
        "      current_qs[action] = new_q\n",
        "\n",
        "      X.append(current_state)\n",
        "      y.append(current_qs)\n",
        "\n",
        "    self.model.fit(np.array(X), np.array(y), batch_size = MINIBATCH_SIZE, verbose = 0, shuffle = False if terminal_state else None)\n",
        "\n",
        "    # updating to determine if we want to update target_model yet\n",
        "    if terminal_state:\n",
        "      self.target_update_counter += 1\n",
        "\n",
        "    #if self.target_update_counter > UPDATE_TAREGT_EVERY:\n",
        "    if self.target_update_counter > 5:\n",
        "      self.target_model.set_weights(self.model.get_weights())\n",
        "      self.target_update_counter = 0\n",
        "\n",
        "  # Queries main network for Q values given current observation space (environment state)\n",
        "  def get_qs(self,state):\n",
        "    return self.model.predict(np.array(state).reshape(-1, *state.shape)[0])\n",
        "\n",
        "agent = DQNAgent()"
      ],
      "metadata": {
        "id": "rj2DEMd7u7z8"
      },
      "execution_count": null,
      "outputs": []
    },
    {
      "cell_type": "code",
      "source": [
        "# Iterate over episodes\n",
        "for episode in tqdm(range(1, EPISODES + 1), ascii=True, unit='episodes'):\n",
        "  # Restarting episode - reset episode reward and step number\n",
        "  episode_reward = 0\n",
        "  step = 1\n",
        "  #reward = 0\n",
        "  # Reset environment and get initial state\n",
        "  current_state = env.reset()\n",
        "\n",
        "  # Reset flag and start iterating until episode ends\n",
        "  done = False\n",
        "  while not done:\n",
        "    # This part stays mostly the same, the change is to query a model for Q values\n",
        "    if np.random.random() > epsilon:\n",
        "      # Get action from Q table\n",
        "      action = np.argmax(agent.get_qs(current_state))\n",
        "    else:\n",
        "      # Get random action\n",
        "      action = np.random.randint(0, 6)\n",
        "  \n",
        "      new_state, reward, done = env.step(action)\n",
        "  \n",
        "      # Transform new continous state to new discrete state and count reward\n",
        "      episode_reward += reward\n",
        "      #episode_reward += 1\n",
        "      \n",
        "      if SHOW_PREVIEW and not episode % AGGREGATE_STATS_EVERY:\n",
        "        env.render()\n",
        "     \n",
        "      # Every step we update replay memory and train main network\n",
        "      agent.update_replay_memory((current_state, action, reward, new_state, done))\n",
        "      agent.train(done, step)\n",
        "      current_state = new_state\n",
        "      step += 1\n",
        "\n",
        "    # Append episode reward to a list and log stats (every given number of episodes)\n",
        "    ep_rewards.append(episode_reward)\n",
        "    if not episode % AGGREGATE_STATS_EVERY or episode == 1:\n",
        "      average_reward = sum(ep_rewards[-AGGREGATE_STATS_EVERY:])/len(ep_rewards[-AGGREGATE_STATS_EVERY:])\n",
        "      min_reward = min(ep_rewards[-AGGREGATE_STATS_EVERY:])\n",
        "      max_reward = max(ep_rewards[-AGGREGATE_STATS_EVERY:])\n",
        "  \n",
        "  # Decay epsilon\n",
        "  if epsilon > MIN_EPSILON:\n",
        "    epsilon *= EPSILON_DECAY\n",
        "    epsilon = max(MIN_EPSILON, epsilon)"
      ],
      "metadata": {
        "id": "rDyqJ8swvCTe"
      },
      "execution_count": null,
      "outputs": []
    },
    {
      "cell_type": "markdown",
      "source": [
        "Customised A2C Model"
      ],
      "metadata": {
        "id": "1Or6hlas-jKa"
      }
    },
    {
      "cell_type": "code",
      "source": [
        "import sys\n",
        "import torch  \n",
        "import torch.nn as nn\n",
        "import torch.optim as optim\n",
        "import torch.nn.functional as F\n",
        "from torch.autograd import Variable"
      ],
      "metadata": {
        "id": "vl3IGLfG-l2p"
      },
      "execution_count": null,
      "outputs": []
    },
    {
      "cell_type": "code",
      "source": [
        "# hyperparameters\n",
        "hidden_size = 256\n",
        "learning_rate = 3e-4\n",
        "\n",
        "# Constants\n",
        "GAMMA = 0.99\n",
        "num_steps = 300\n",
        "#max_episodes = 3000\n",
        "max_episodes = 1000"
      ],
      "metadata": {
        "id": "QPZVqMdi-u7e"
      },
      "execution_count": null,
      "outputs": []
    },
    {
      "cell_type": "code",
      "source": [
        "class ActorCritic(nn.Module):\n",
        "  def __init__(self, num_inputs, num_actions, hidden_size, learning_rate=3e-4):\n",
        "    super(ActorCritic, self).__init__()\n",
        "\n",
        "    self.num_actions = num_actions\n",
        "    self.critic_linear1 = nn.Linear(num_inputs, hidden_size)\n",
        "    self.critic_linear2 = nn.Linear(hidden_size, 1)\n",
        "\n",
        "    self.actor_linear1 = nn.Linear(num_inputs, hidden_size)\n",
        "    self.actor_linear2 = nn.Linear(hidden_size, num_actions)\n",
        "    \n",
        "  def forward(self, state):\n",
        "    state = Variable(torch.from_numpy(state).float().unsqueeze(0))\n",
        "    value = F.relu(self.critic_linear1(state))\n",
        "    value = self.critic_linear2(value)\n",
        "        \n",
        "    policy_dist = F.relu(self.actor_linear1(state))\n",
        "    policy_dist = F.softmax(self.actor_linear2(policy_dist), dim=1)\n",
        "\n",
        "    return value, policy_dist"
      ],
      "metadata": {
        "id": "45AnuMbk-1V4"
      },
      "execution_count": null,
      "outputs": []
    },
    {
      "cell_type": "code",
      "source": [
        "def a2c(env):\n",
        "  num_inputs = 5\n",
        "  num_outputs = 6\n",
        "    \n",
        "  actor_critic = ActorCritic(num_inputs, num_outputs, hidden_size)\n",
        "  ac_optimizer = optim.Adam(actor_critic.parameters(), lr=learning_rate)\n",
        "\n",
        "  all_lengths = []\n",
        "  average_lengths = []\n",
        "  all_rewards = []\n",
        "  entropy_term = 0\n",
        "\n",
        "  for episode in range(max_episodes):\n",
        "    log_probs = []\n",
        "    values = []\n",
        "    rewards = []\n",
        "\n",
        "    state = env.reset()\n",
        "    for steps in range(num_steps):\n",
        "      value, policy_dist = actor_critic.forward(state)\n",
        "      value = value.detach().numpy()[0,0]\n",
        "      dist = policy_dist.detach().numpy() \n",
        "\n",
        "      action = np.random.choice(num_outputs, p=np.squeeze(dist))\n",
        "      log_prob = torch.log(policy_dist.squeeze(0)[action])\n",
        "      entropy = -np.sum(np.mean(dist) * np.log(dist))\n",
        "      new_state, reward, done = env.step(action)\n",
        "\n",
        "      rewards.append(reward)\n",
        "      values.append(value)\n",
        "      log_probs.append(log_prob)\n",
        "      entropy_term += entropy\n",
        "      state = new_state\n",
        "            \n",
        "      if done or steps == num_steps-1:\n",
        "        Qval, _ = actor_critic.forward(new_state)\n",
        "        Qval = Qval.detach().numpy()[0,0]\n",
        "        all_rewards.append(np.sum(rewards))\n",
        "        all_lengths.append(steps)\n",
        "        average_lengths.append(np.mean(all_lengths[-10:]))\n",
        "        if episode % 10 == 0:                    \n",
        "          sys.stdout.write(\"episode: {}, reward: {}, total length: {}, average length: {} \\n\".format(episode, np.sum(rewards), steps, average_lengths[-1]))\n",
        "        break\n",
        "        \n",
        "  # compute Q values\n",
        "  Qvals = np.zeros_like(values)\n",
        "  for t in reversed(range(len(rewards))):\n",
        "    Qval = rewards[t] + GAMMA * Qval\n",
        "    Qvals[t] = Qval\n",
        "  \n",
        "  #update actor critic\n",
        "  values = torch.FloatTensor(values)\n",
        "  Qvals = torch.FloatTensor(Qvals)\n",
        "  log_probs = torch.stack(log_probs)\n",
        "        \n",
        "  advantage = Qvals - values\n",
        "  actor_loss = (-log_probs * advantage).mean()\n",
        "  critic_loss = 0.5 * advantage.pow(2).mean()\n",
        "  ac_loss = actor_loss + critic_loss + 0.001 * entropy_term\n",
        "\n",
        "  ac_optimizer.zero_grad()\n",
        "  ac_loss.backward()\n",
        "  ac_optimizer.step()\n",
        "\n",
        "        \n",
        "    \n",
        "  # Plot results\n",
        "  smoothed_rewards = pd.Series.rolling(pd.Series(all_rewards), 10).mean()\n",
        "  smoothed_rewards = [elem for elem in smoothed_rewards]\n",
        "  plt.plot(all_rewards)\n",
        "  plt.plot(smoothed_rewards)\n",
        "  plt.plot()\n",
        "  plt.xlabel('Episode')\n",
        "  plt.ylabel('Reward')\n",
        "  plt.show()\n",
        "\n",
        "  plt.plot(all_lengths)\n",
        "  plt.plot(average_lengths)\n",
        "  plt.xlabel('Episode')\n",
        "  plt.ylabel('Episode length')\n",
        "  plt.show()"
      ],
      "metadata": {
        "id": "k_JH69PM-5bp"
      },
      "execution_count": null,
      "outputs": []
    },
    {
      "cell_type": "code",
      "source": [
        "agent = a2c(env)"
      ],
      "metadata": {
        "id": "tDZ5SjdA-9pE",
        "colab": {
          "base_uri": "https://localhost:8080/",
          "height": 1000
        },
        "outputId": "dc7b099e-0ab7-43cc-b7fd-62a57882120c"
      },
      "execution_count": null,
      "outputs": [
        {
          "output_type": "stream",
          "name": "stdout",
          "text": [
            "episode: 0, reward: -14400, total length: 299, average length: 299.0 \n",
            "episode: 10, reward: -14900, total length: 299, average length: 299.0 \n",
            "episode: 20, reward: -15600, total length: 299, average length: 299.0 \n",
            "episode: 30, reward: -14000, total length: 299, average length: 299.0 \n",
            "episode: 40, reward: -14300, total length: 299, average length: 299.0 \n",
            "episode: 50, reward: -12100, total length: 299, average length: 299.0 \n",
            "episode: 60, reward: -15000, total length: 299, average length: 299.0 \n",
            "episode: 70, reward: -14900, total length: 299, average length: 299.0 \n",
            "episode: 80, reward: -16700, total length: 299, average length: 299.0 \n",
            "episode: 90, reward: -13400, total length: 299, average length: 299.0 \n",
            "episode: 100, reward: -14800, total length: 299, average length: 299.0 \n",
            "episode: 110, reward: -13600, total length: 299, average length: 299.0 \n",
            "episode: 120, reward: -15400, total length: 299, average length: 299.0 \n",
            "episode: 130, reward: -15700, total length: 299, average length: 299.0 \n",
            "episode: 140, reward: -15100, total length: 299, average length: 299.0 \n",
            "episode: 150, reward: -17400, total length: 299, average length: 299.0 \n",
            "episode: 160, reward: -14700, total length: 299, average length: 299.0 \n",
            "episode: 170, reward: -14200, total length: 299, average length: 299.0 \n",
            "episode: 180, reward: -16000, total length: 299, average length: 299.0 \n",
            "episode: 190, reward: -13400, total length: 299, average length: 299.0 \n",
            "episode: 200, reward: -13900, total length: 299, average length: 299.0 \n",
            "episode: 210, reward: -15900, total length: 299, average length: 299.0 \n",
            "episode: 220, reward: -16800, total length: 299, average length: 299.0 \n",
            "episode: 230, reward: -15500, total length: 299, average length: 299.0 \n",
            "episode: 240, reward: -15100, total length: 299, average length: 299.0 \n",
            "episode: 250, reward: -14300, total length: 299, average length: 299.0 \n",
            "episode: 260, reward: -14600, total length: 299, average length: 299.0 \n",
            "episode: 270, reward: -15600, total length: 299, average length: 299.0 \n",
            "episode: 280, reward: -13900, total length: 299, average length: 299.0 \n",
            "episode: 290, reward: -13700, total length: 299, average length: 299.0 \n",
            "episode: 300, reward: -14200, total length: 299, average length: 299.0 \n",
            "episode: 310, reward: -17100, total length: 299, average length: 299.0 \n",
            "episode: 320, reward: -15100, total length: 299, average length: 299.0 \n",
            "episode: 330, reward: -14100, total length: 299, average length: 299.0 \n",
            "episode: 340, reward: -15600, total length: 299, average length: 299.0 \n",
            "episode: 350, reward: -15600, total length: 299, average length: 299.0 \n",
            "episode: 360, reward: -15300, total length: 299, average length: 299.0 \n",
            "episode: 370, reward: -15200, total length: 299, average length: 299.0 \n",
            "episode: 380, reward: -16200, total length: 299, average length: 299.0 \n",
            "episode: 390, reward: -14500, total length: 299, average length: 299.0 \n",
            "episode: 400, reward: -14400, total length: 299, average length: 299.0 \n",
            "episode: 410, reward: -15900, total length: 299, average length: 299.0 \n",
            "episode: 420, reward: -14200, total length: 299, average length: 299.0 \n",
            "episode: 430, reward: -15900, total length: 299, average length: 299.0 \n",
            "episode: 440, reward: -14100, total length: 299, average length: 299.0 \n",
            "episode: 450, reward: -14400, total length: 299, average length: 299.0 \n",
            "episode: 460, reward: -16200, total length: 299, average length: 299.0 \n",
            "episode: 470, reward: -15900, total length: 299, average length: 299.0 \n",
            "episode: 480, reward: -14300, total length: 299, average length: 299.0 \n",
            "episode: 490, reward: -15000, total length: 299, average length: 299.0 \n",
            "episode: 500, reward: -15700, total length: 299, average length: 299.0 \n",
            "episode: 510, reward: -15600, total length: 299, average length: 299.0 \n",
            "episode: 520, reward: -15600, total length: 299, average length: 299.0 \n",
            "episode: 530, reward: -15400, total length: 299, average length: 299.0 \n",
            "episode: 540, reward: -15400, total length: 299, average length: 299.0 \n",
            "episode: 550, reward: -14700, total length: 299, average length: 299.0 \n",
            "episode: 560, reward: -15100, total length: 299, average length: 299.0 \n",
            "episode: 570, reward: -14500, total length: 299, average length: 299.0 \n",
            "episode: 580, reward: -16500, total length: 299, average length: 299.0 \n",
            "episode: 590, reward: -14600, total length: 299, average length: 299.0 \n",
            "episode: 600, reward: -15400, total length: 299, average length: 299.0 \n",
            "episode: 610, reward: -13700, total length: 299, average length: 299.0 \n",
            "episode: 620, reward: -18000, total length: 299, average length: 299.0 \n",
            "episode: 630, reward: -15800, total length: 299, average length: 299.0 \n",
            "episode: 640, reward: -14900, total length: 299, average length: 299.0 \n",
            "episode: 650, reward: -16400, total length: 299, average length: 299.0 \n",
            "episode: 660, reward: -14600, total length: 299, average length: 299.0 \n",
            "episode: 670, reward: -15500, total length: 299, average length: 299.0 \n",
            "episode: 680, reward: -15900, total length: 299, average length: 299.0 \n",
            "episode: 690, reward: -12800, total length: 299, average length: 299.0 \n",
            "episode: 700, reward: -14900, total length: 299, average length: 299.0 \n",
            "episode: 710, reward: -14600, total length: 299, average length: 299.0 \n",
            "episode: 720, reward: -15800, total length: 299, average length: 299.0 \n",
            "episode: 730, reward: -14400, total length: 299, average length: 299.0 \n",
            "episode: 740, reward: -14800, total length: 299, average length: 299.0 \n",
            "episode: 750, reward: -16700, total length: 299, average length: 299.0 \n",
            "episode: 760, reward: -17000, total length: 299, average length: 299.0 \n",
            "episode: 770, reward: -16100, total length: 299, average length: 299.0 \n",
            "episode: 780, reward: -15700, total length: 299, average length: 299.0 \n",
            "episode: 790, reward: -14500, total length: 299, average length: 299.0 \n",
            "episode: 800, reward: -14200, total length: 299, average length: 299.0 \n",
            "episode: 810, reward: -14700, total length: 299, average length: 299.0 \n",
            "episode: 820, reward: -14500, total length: 299, average length: 299.0 \n",
            "episode: 830, reward: -14700, total length: 299, average length: 299.0 \n",
            "episode: 840, reward: -16400, total length: 299, average length: 299.0 \n",
            "episode: 850, reward: -13300, total length: 299, average length: 299.0 \n",
            "episode: 860, reward: -15100, total length: 299, average length: 299.0 \n",
            "episode: 870, reward: -14800, total length: 299, average length: 299.0 \n",
            "episode: 880, reward: -13500, total length: 299, average length: 299.0 \n",
            "episode: 890, reward: -16500, total length: 299, average length: 299.0 \n",
            "episode: 900, reward: -15900, total length: 299, average length: 299.0 \n",
            "episode: 910, reward: -15500, total length: 299, average length: 299.0 \n",
            "episode: 920, reward: -14900, total length: 299, average length: 299.0 \n",
            "episode: 930, reward: -14700, total length: 299, average length: 299.0 \n",
            "episode: 940, reward: -15300, total length: 299, average length: 299.0 \n",
            "episode: 950, reward: -14500, total length: 299, average length: 299.0 \n",
            "episode: 960, reward: -16000, total length: 299, average length: 299.0 \n",
            "episode: 970, reward: -14200, total length: 299, average length: 299.0 \n",
            "episode: 980, reward: -15300, total length: 299, average length: 299.0 \n",
            "episode: 990, reward: -16400, total length: 299, average length: 299.0 \n"
          ]
        },
        {
          "output_type": "display_data",
          "data": {
            "text/plain": [
              "<Figure size 432x288 with 1 Axes>"
            ],
            "image/png": "[encoded data removed]"
          },
          "metadata": {
            "needs_background": "light"
          }
        },
        {
          "output_type": "display_data",
          "data": {
            "text/plain": [
              "<Figure size 432x288 with 1 Axes>"
            ],
            "image/png": "[encoded data removed]"
          },
          "metadata": {
            "needs_background": "light"
          }
        }
      ]
    },
    {
      "cell_type": "markdown",
      "source": [
        "Customised PPO Model"
      ],
      "metadata": {
        "id": "HvM592Xfjd_d"
      }
    },
    {
      "cell_type": "code",
      "source": [
        "!pip install ppo_torch"
      ],
      "metadata": {
        "id": "CmQ7qaJfjxzE"
      },
      "execution_count": null,
      "outputs": []
    },
    {
      "cell_type": "code",
      "source": [
        "import os\n",
        "import numpy as np\n",
        "import torch as T\n",
        "import torch.nn as nn\n",
        "import torch.optim as optim\n",
        "from torch.distributions.categorical import Categorical\n",
        "\n",
        "class PPOMemory:\n",
        "  def __init__(self, batch_size):\n",
        "    self.states = []\n",
        "    self.probs = []\n",
        "    self.vals = []\n",
        "    self.actions = []\n",
        "    self.rewards = []\n",
        "    self.dones = []\n",
        "    self.batch_size = batch_size\n",
        "\n",
        "  def generate_batches(self):\n",
        "    n_states = len(self.states)\n",
        "    batch_start = np.arange(0, n_states, self.batch_size)\n",
        "    indices = np.arange(n_states, dtype=np.int64)\n",
        "    np.random.shuffle(indices)\n",
        "    batches = [indices[i:i+self.batch_size] for i in batch_start]\n",
        "    return np.array(self.states),\\\n",
        "                np.array(self.actions),\\\n",
        "                np.array(self.probs),\\\n",
        "                np.array(self.vals),\\\n",
        "                np.array(self.rewards),\\\n",
        "                np.array(self.dones),\\\n",
        "                batches\n",
        "\n",
        "  def store_memory(self, state, action, probs, vals, reward, done):\n",
        "    self.states.append(state)\n",
        "    self.actions.append(action)\n",
        "    self.probs.append(probs)\n",
        "    self.vals.append(vals)\n",
        "    self.rewards.append(reward)\n",
        "    self.dones.append(done)\n",
        "\n",
        "  def clear_memory(self):\n",
        "    self.states = []\n",
        "    self.probs = []\n",
        "    self.actions = []\n",
        "    self.rewards = []\n",
        "    self.dones = []\n",
        "    self.vals = []"
      ],
      "metadata": {
        "id": "zin1tZpgjv91"
      },
      "execution_count": null,
      "outputs": []
    },
    {
      "cell_type": "code",
      "source": [
        "class ActorNetwork(nn.Module):\n",
        "  def __init__(self, n_actions, input_dims, alpha, fc1_dims=256, fc2_dims=256, chkpt_dir='tmp/ppo'):\n",
        "    super(ActorNetwork, self).__init__()\n",
        "    self.checkpoint_file = os.path.join(chkpt_dir, 'actor_torch_ppo')\n",
        "    self.actor = nn.Sequential(\n",
        "                nn.Linear(*input_dims, fc1_dims),\n",
        "                nn.ReLU(),\n",
        "                nn.Linear(fc1_dims, fc2_dims),\n",
        "                nn.ReLU(),\n",
        "                nn.Linear(fc2_dims, n_actions),\n",
        "                nn.Softmax(dim=-1)\n",
        "    )\n",
        "    self.optimizer = optim.Adam(self.parameters(), lr=alpha)\n",
        "    self.device = T.device('cuda:0' if T.cuda.is_available() else 'cpu')\n",
        "    self.to(self.device)\n",
        "\n",
        "  def forward(self, state):\n",
        "    dist = self.actor(state)\n",
        "    dist = Categorical(dist)  \n",
        "    return dist\n",
        "\n",
        "  def save_checkpoint(self):\n",
        "    T.save(self.state_dict(), self.checkpoint_file)\n",
        "\n",
        "  def load_checkpoint(self):\n",
        "    self.load_state_dict(T.load(self.checkpoint_file))"
      ],
      "metadata": {
        "id": "MLn2B7TsjtlS"
      },
      "execution_count": null,
      "outputs": []
    },
    {
      "cell_type": "code",
      "source": [
        "class CriticNetwork(nn.Module):\n",
        "  def __init__(self, input_dims, alpha, fc1_dims=256, fc2_dims=256, chkpt_dir='tmp/ppo'):\n",
        "    super(CriticNetwork, self).__init__()\n",
        "    self.checkpoint_file = os.path.join(chkpt_dir, 'critic_torch_ppo')\n",
        "    self.critic = nn.Sequential(\n",
        "                nn.Linear(*input_dims, fc1_dims),\n",
        "                nn.ReLU(),\n",
        "                nn.Linear(fc1_dims, fc2_dims),\n",
        "                nn.ReLU(),\n",
        "                nn.Linear(fc2_dims, 1)\n",
        "    )\n",
        "    self.optimizer = optim.Adam(self.parameters(), lr=alpha)\n",
        "    self.device = T.device('cuda:0' if T.cuda.is_available() else 'cpu')\n",
        "    self.to(self.device)\n",
        "\n",
        "  def forward(self, state):\n",
        "    value = self.critic(state)\n",
        "    return value\n",
        "\n",
        "  def save_checkpoint(self):\n",
        "    T.save(self.state_dict(), self.checkpoint_file)\n",
        "\n",
        "  def load_checkpoint(self):\n",
        "    self.load_state_dict(T.load(self.checkpoint_file))"
      ],
      "metadata": {
        "id": "7nV_i7PKjrjh"
      },
      "execution_count": null,
      "outputs": []
    },
    {
      "cell_type": "code",
      "source": [
        "class Agent:\n",
        "  def __init__(self, n_actions, input_dims, gamma=0.99, alpha=0.0003, gae_lambda=0.95, policy_clip=0.2, batch_size=64, n_epochs=10):\n",
        "    self.gamma = gamma\n",
        "    self.policy_clip = policy_clip\n",
        "    self.n_epochs = n_epochs\n",
        "    self.gae_lambda = gae_lambda\n",
        "    self.actor = ActorNetwork(n_actions, input_dims, alpha)\n",
        "    self.critic = CriticNetwork(input_dims, alpha)\n",
        "    self.memory = PPOMemory(batch_size)\n",
        "       \n",
        "  def remember(self, state, action, probs, vals, reward, done):\n",
        "    self.memory.store_memory(state, action, probs, vals, reward, done)\n",
        "\n",
        "  def save_models(self):\n",
        "    print('... saving models ...')\n",
        "    self.actor.save_checkpoint()\n",
        "    self.critic.save_checkpoint()\n",
        "\n",
        "  def load_models(self):\n",
        "    print('... loading models ...')\n",
        "    self.actor.load_checkpoint()\n",
        "    self.critic.load_checkpoint()\n",
        "\n",
        "  def choose_action(self, observation):\n",
        "    state = T.tensor([observation], dtype=T.float).to(self.actor.device)\n",
        "    dist = self.actor(state)\n",
        "    value = self.critic(state)\n",
        "    action = dist.sample()\n",
        "    probs = T.squeeze(dist.log_prob(action)).item()\n",
        "    action = T.squeeze(action).item()\n",
        "    value = T.squeeze(value).item()\n",
        "    return action, probs, value\n",
        "\n",
        "  def learn(self):\n",
        "    for _ in range(self.n_epochs):\n",
        "      state_arr, action_arr, old_prob_arr, vals_arr,\\\n",
        "      reward_arr, dones_arr, batches = \\\n",
        "      self.memory.generate_batches()\n",
        "      values = vals_arr\n",
        "      advantage = np.zeros(len(reward_arr), dtype=np.float32)\n",
        "      \n",
        "      for t in range(len(reward_arr)-1):\n",
        "        discount = 1\n",
        "        a_t = 0\n",
        "        for k in range(t, len(reward_arr)-1):\n",
        "          a_t += discount*(reward_arr[k] + self.gamma*values[k+1]*\\\n",
        "                          (1-int(dones_arr[k])) - values[k])\n",
        "          discount *= self.gamma*self.gae_lambda\n",
        "        advantage[t] = a_t\n",
        "      advantage = T.tensor(advantage).to(self.actor.device)\n",
        "\n",
        "      values = T.tensor(values).to(self.actor.device)\n",
        "      for batch in batches:\n",
        "        states = T.tensor(state_arr[batch], dtype=T.float).to(self.actor.device)\n",
        "        old_probs = T.tensor(old_prob_arr[batch]).to(self.actor.device)\n",
        "        actions = T.tensor(action_arr[batch]).to(self.actor.device)\n",
        "        dist = self.actor(states)\n",
        "        critic_value = self.critic(states)\n",
        "        critic_value = T.squeeze(critic_value)\n",
        "        new_probs = dist.log_prob(actions)\n",
        "        prob_ratio = new_probs.exp() / old_probs.exp()\n",
        "        #prob_ratio = (new_probs - old_probs).exp()\n",
        "        weighted_probs = advantage[batch] * prob_ratio\n",
        "        weighted_clipped_probs = T.clamp(prob_ratio, 1-self.policy_clip,\n",
        "                        1+self.policy_clip)*advantage[batch]\n",
        "        actor_loss = -T.min(weighted_probs, weighted_clipped_probs).mean()\n",
        "        returns = advantage[batch] + values[batch]\n",
        "        critic_loss = (returns-critic_value)**2\n",
        "        critic_loss = critic_loss.mean()\n",
        "        total_loss = actor_loss + 0.5*critic_loss\n",
        "        self.actor.optimizer.zero_grad()\n",
        "        self.critic.optimizer.zero_grad()\n",
        "        total_loss.backward()\n",
        "        self.actor.optimizer.step()\n",
        "        self.critic.optimizer.step()\n",
        "        \n",
        "    self.memory.clear_memory()  "
      ],
      "metadata": {
        "id": "pGCpMb_JjpW6"
      },
      "execution_count": null,
      "outputs": []
    },
    {
      "cell_type": "code",
      "source": [
        "import numpy as np\n",
        "import matplotlib.pyplot as plt\n",
        "\n",
        "def plot_learning_curve(x, scores, figure_file):\n",
        "  running_avg = np.zeros(len(scores))\n",
        "  for i in range(len(running_avg)):\n",
        "    running_avg[i] = np.mean(scores[max(0, i-100):(i+1)])\n",
        "  plt.plot(x, running_avg)\n",
        "  plt.title('Running average of previous 100 scores')\n",
        "  plt.savefig(figure_file)"
      ],
      "metadata": {
        "id": "0ESZjlzGjnRe"
      },
      "execution_count": null,
      "outputs": []
    },
    {
      "cell_type": "code",
      "source": [
        "import gym\n",
        "import numpy as np\n",
        "from ppo_torch import Agent\n",
        "from utils import plot_learning_curve\n",
        "\n",
        "if __name__ == '__main__':\n",
        "    env = gym.make('CartPole-v0')\n",
        "    N = 20\n",
        "    batch_size = 5\n",
        "    n_epochs = 4\n",
        "    alpha = 0.0003\n",
        "    agent = Agent(n_actions=env.action_space.n, batch_size=batch_size, \n",
        "                    alpha=alpha, n_epochs=n_epochs, \n",
        "                    input_dims=env.observation_space.shape)\n",
        "    n_games = 300\n",
        "\n",
        "    figure_file = 'plots/cartpole.png'\n",
        "\n",
        "    best_score = env.reward_range[0]\n",
        "    score_history = []\n",
        "\n",
        "    learn_iters = 0\n",
        "    avg_score = 0\n",
        "    n_steps = 0\n",
        "\n",
        "    for i in range(n_games):\n",
        "        observation = env.reset()\n",
        "        done = False\n",
        "        score = 0\n",
        "        while not done:\n",
        "            action, prob, val = agent.choose_action(observation)\n",
        "            observation_, reward, done, info = env.step(action)\n",
        "            n_steps += 1\n",
        "            score += reward\n",
        "            agent.remember(observation, action, prob, val, reward, done)\n",
        "            if n_steps % N == 0:\n",
        "                agent.learn()\n",
        "                learn_iters += 1\n",
        "            observation = observation_\n",
        "        score_history.append(score)\n",
        "        avg_score = np.mean(score_history[-100:])\n",
        "\n",
        "        if avg_score > best_score:\n",
        "            best_score = avg_score\n",
        "            agent.save_models()\n",
        "\n",
        "        print('episode', i, 'score %.1f' % score, 'avg score %.1f' % avg_score,\n",
        "                'time_steps', n_steps, 'learning_steps', learn_iters)\n",
        "    x = [i+1 for i in range(len(score_history))]\n",
        "    plot_learning_curve(x, score_history, figure_file)"
      ],
      "metadata": {
        "id": "dAC0XRx9jjup"
      },
      "execution_count": null,
      "outputs": []
    },
    {
      "cell_type": "markdown",
      "source": [
        "Model Evaluation"
      ],
      "metadata": {
        "id": "seukdM_xj2Xq"
      }
    }
  ]
}